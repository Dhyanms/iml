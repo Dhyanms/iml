{
 "cells": [
  {
   "cell_type": "markdown",
   "metadata": {
    "colab_type": "text",
    "id": "IpL5v1Sf3RWI"
   },
   "source": [
    "# Bangalore House Price Prediction - Outlier Detection"
   ]
  },
  {
   "cell_type": "markdown",
   "metadata": {
    "colab_type": "text",
    "id": "PVLMn1d8k7He"
   },
   "source": [
    "This notebook only train ML model on different ml algorithms"
   ]
  },
  {
   "cell_type": "code",
   "execution_count": null,
   "metadata": {
    "colab": {
     "base_uri": "https://localhost:8080/",
     "height": 71
    },
    "colab_type": "code",
    "executionInfo": {
     "elapsed": 2175,
     "status": "ok",
     "timestamp": 1593078487795,
     "user": {
      "displayName": "indian ai production",
      "photoUrl": "",
      "userId": "05336710603640792650"
     },
     "user_tz": -330
    },
    "id": "gOSX3Cyj3MMb",
    "outputId": "ce9f956d-30df-4c35-d70e-a9bc664bb2a8"
   },
   "outputs": [
    {
     "ename": "",
     "evalue": "",
     "output_type": "error",
     "traceback": [
      "\u001b[1;31mRunning cells with 'Python 3.12.0' requires the ipykernel package.\n",
      "\u001b[1;31mRun the following command to install 'ipykernel' into the Python environment. \n",
      "\u001b[1;31mCommand: 'c:/Python312/python.exe -m pip install ipykernel -U --user --force-reinstall'"
     ]
    }
   ],
   "source": [
    "import numpy as np\n",
    "import pandas as pd\n",
    "import matplotlib.pyplot as plt\n",
    "import seaborn as sns"
   ]
  },
  {
   "cell_type": "code",
   "execution_count": 19,
   "metadata": {
    "colab": {},
    "colab_type": "code",
    "executionInfo": {
     "elapsed": 3393,
     "status": "ok",
     "timestamp": 1593078489034,
     "user": {
      "displayName": "indian ai production",
      "photoUrl": "",
      "userId": "05336710603640792650"
     },
     "user_tz": -330
    },
    "id": "xRx0SRBGC54j"
   },
   "outputs": [],
   "source": [
    "pd.set_option(\"display.max_columns\", None)\n",
    "pd.set_option(\"display.max_rows\", None)"
   ]
  },
  {
   "cell_type": "code",
   "execution_count": 20,
   "metadata": {
    "colab": {
     "base_uri": "https://localhost:8080/",
     "height": 34
    },
    "colab_type": "code",
    "executionInfo": {
     "elapsed": 3360,
     "status": "ok",
     "timestamp": 1593078489036,
     "user": {
      "displayName": "indian ai production",
      "photoUrl": "",
      "userId": "05336710603640792650"
     },
     "user_tz": -330
    },
    "id": "bZyJo0ya2OVT",
    "outputId": "78d9accb-2a46-4585-c954-7a134482dd0f"
   },
   "outputs": [
    {
     "data": {
      "text/plain": [
       "\"from google.colab import files\\nfiles=files.upload()\\ndf = pd.read_csv('oh_encoded_data.csv')\""
      ]
     },
     "execution_count": 20,
     "metadata": {},
     "output_type": "execute_result"
    }
   ],
   "source": [
    "\"\"\"from google.colab import files\n",
    "files=files.upload()\n",
    "df = pd.read_csv('oh_encoded_data.csv')\"\"\""
   ]
  },
  {
   "cell_type": "code",
   "execution_count": 21,
   "metadata": {
    "colab": {
     "base_uri": "https://localhost:8080/",
     "height": 34
    },
    "colab_type": "code",
    "executionInfo": {
     "elapsed": 3934,
     "status": "ok",
     "timestamp": 1593078489647,
     "user": {
      "displayName": "indian ai production",
      "photoUrl": "",
      "userId": "05336710603640792650"
     },
     "user_tz": -330
    },
    "id": "Gp8WO-ZhNc6w",
    "outputId": "54b49402-f5e1-4e5c-83d7-024916a9cca0",
    "tags": []
   },
   "outputs": [
    {
     "data": {
      "text/plain": [
       "(7120, 108)"
      ]
     },
     "execution_count": 21,
     "metadata": {},
     "output_type": "execute_result"
    }
   ],
   "source": [
    "# Get clean data\n",
    "\n",
    "# This file contain [area_type\tavailability\tlocation\tbath\tbalcony\tprice\ttotal_sqft_int\tbhk\tprice_per_sqft]\n",
    "# and ['area_type','availability','location'] this are cat var\n",
    "# We encoded few classes from above car var in OHE \n",
    "\n",
    "df = pd.read_csv('ohe_data_reduce_cat_class.csv')\n",
    "df.shape"
   ]
  },
  {
   "cell_type": "code",
   "execution_count": 22,
   "metadata": {
    "colab": {
     "base_uri": "https://localhost:8080/",
     "height": 34
    },
    "colab_type": "code",
    "executionInfo": {
     "elapsed": 3899,
     "status": "ok",
     "timestamp": 1593078489650,
     "user": {
      "displayName": "indian ai production",
      "photoUrl": "",
      "userId": "05336710603640792650"
     },
     "user_tz": -330
    },
    "id": "WP8pY6-IlxRJ",
    "outputId": "4e9069ef-1af5-4e89-9f04-0df4d66a73b9"
   },
   "outputs": [
    {
     "data": {
      "text/plain": [
       "(7120, 108)"
      ]
     },
     "execution_count": 22,
     "metadata": {},
     "output_type": "execute_result"
    }
   ],
   "source": [
    "df.shape"
   ]
  },
  {
   "cell_type": "code",
   "execution_count": 23,
   "metadata": {
    "colab": {
     "base_uri": "https://localhost:8080/",
     "height": 258
    },
    "colab_type": "code",
    "executionInfo": {
     "elapsed": 3862,
     "status": "ok",
     "timestamp": 1593078489653,
     "user": {
      "displayName": "indian ai production",
      "photoUrl": "",
      "userId": "05336710603640792650"
     },
     "user_tz": -330
    },
    "id": "VFKjUlZtPQgS",
    "outputId": "0637f216-2a21-491b-f28d-fa5a70755b7c"
   },
   "outputs": [
    {
     "data": {
      "text/html": [
       "<div>\n",
       "<style scoped>\n",
       "    .dataframe tbody tr th:only-of-type {\n",
       "        vertical-align: middle;\n",
       "    }\n",
       "\n",
       "    .dataframe tbody tr th {\n",
       "        vertical-align: top;\n",
       "    }\n",
       "\n",
       "    .dataframe thead th {\n",
       "        text-align: right;\n",
       "    }\n",
       "</style>\n",
       "<table border=\"1\" class=\"dataframe\">\n",
       "  <thead>\n",
       "    <tr style=\"text-align: right;\">\n",
       "      <th></th>\n",
       "      <th>bath</th>\n",
       "      <th>balcony</th>\n",
       "      <th>price</th>\n",
       "      <th>total_sqft_int</th>\n",
       "      <th>bhk</th>\n",
       "      <th>price_per_sqft</th>\n",
       "      <th>area_typeSuper built-up  Area</th>\n",
       "      <th>area_typeBuilt-up  Area</th>\n",
       "      <th>area_typePlot  Area</th>\n",
       "      <th>availability_Ready To Move</th>\n",
       "      <th>location_Whitefield</th>\n",
       "      <th>location_Sarjapur  Road</th>\n",
       "      <th>location_Electronic City</th>\n",
       "      <th>location_Marathahalli</th>\n",
       "      <th>location_Raja Rajeshwari Nagar</th>\n",
       "      <th>location_Haralur Road</th>\n",
       "      <th>location_Hennur Road</th>\n",
       "      <th>location_Bannerghatta Road</th>\n",
       "      <th>location_Uttarahalli</th>\n",
       "      <th>location_Thanisandra</th>\n",
       "      <th>location_Electronic City Phase II</th>\n",
       "      <th>location_Hebbal</th>\n",
       "      <th>location_Yelahanka</th>\n",
       "      <th>location_7th Phase JP Nagar</th>\n",
       "      <th>location_Kanakpura Road</th>\n",
       "      <th>location_KR Puram</th>\n",
       "      <th>location_Sarjapur</th>\n",
       "      <th>location_Rajaji Nagar</th>\n",
       "      <th>location_Bellandur</th>\n",
       "      <th>location_Kasavanhalli</th>\n",
       "      <th>location_Begur Road</th>\n",
       "      <th>location_Banashankari</th>\n",
       "      <th>location_Kothanur</th>\n",
       "      <th>location_Hormavu</th>\n",
       "      <th>location_Harlur</th>\n",
       "      <th>location_Akshaya Nagar</th>\n",
       "      <th>location_Electronics City Phase 1</th>\n",
       "      <th>location_Jakkur</th>\n",
       "      <th>location_Varthur</th>\n",
       "      <th>location_HSR Layout</th>\n",
       "      <th>location_Hennur</th>\n",
       "      <th>location_Ramamurthy Nagar</th>\n",
       "      <th>location_Chandapura</th>\n",
       "      <th>location_Koramangala</th>\n",
       "      <th>location_Kaggadasapura</th>\n",
       "      <th>location_Kundalahalli</th>\n",
       "      <th>location_Ramagondanahalli</th>\n",
       "      <th>location_Budigere</th>\n",
       "      <th>location_Hulimavu</th>\n",
       "      <th>location_Hoodi</th>\n",
       "      <th>location_Malleshwaram</th>\n",
       "      <th>location_Hegde Nagar</th>\n",
       "      <th>location_Yeshwanthpur</th>\n",
       "      <th>location_Gottigere</th>\n",
       "      <th>location_8th Phase JP Nagar</th>\n",
       "      <th>location_JP Nagar</th>\n",
       "      <th>location_Channasandra</th>\n",
       "      <th>location_Bisuvanahalli</th>\n",
       "      <th>location_Vittasandra</th>\n",
       "      <th>location_Indira Nagar</th>\n",
       "      <th>location_Old Airport Road</th>\n",
       "      <th>location_Sahakara Nagar</th>\n",
       "      <th>location_Brookefield</th>\n",
       "      <th>location_Kengeri</th>\n",
       "      <th>location_Hosa Road</th>\n",
       "      <th>location_Vijayanagar</th>\n",
       "      <th>location_Balagere</th>\n",
       "      <th>location_Green Glen Layout</th>\n",
       "      <th>location_Bommasandra</th>\n",
       "      <th>location_Rachenahalli</th>\n",
       "      <th>location_Panathur</th>\n",
       "      <th>location_Old Madras Road</th>\n",
       "      <th>location_Kudlu Gate</th>\n",
       "      <th>location_Mysore Road</th>\n",
       "      <th>location_Thigalarapalya</th>\n",
       "      <th>location_Talaghattapura</th>\n",
       "      <th>location_Kadugodi</th>\n",
       "      <th>location_Ambedkar Nagar</th>\n",
       "      <th>location_Jigani</th>\n",
       "      <th>location_Yelahanka New Town</th>\n",
       "      <th>location_Frazer Town</th>\n",
       "      <th>location_Kanakapura</th>\n",
       "      <th>location_Attibele</th>\n",
       "      <th>location_Dodda Nekkundi</th>\n",
       "      <th>location_Devanahalli</th>\n",
       "      <th>location_Lakshminarayana Pura</th>\n",
       "      <th>location_Nagarbhavi</th>\n",
       "      <th>location_5th Phase JP Nagar</th>\n",
       "      <th>location_TC Palaya</th>\n",
       "      <th>location_Ananth Nagar</th>\n",
       "      <th>location_Anekal</th>\n",
       "      <th>location_Kudlu</th>\n",
       "      <th>location_CV Raman Nagar</th>\n",
       "      <th>location_Jalahalli</th>\n",
       "      <th>location_Kengeri Satellite Town</th>\n",
       "      <th>location_Doddathoguru</th>\n",
       "      <th>location_Bhoganhalli</th>\n",
       "      <th>location_Subramanyapura</th>\n",
       "      <th>location_Kalena Agrahara</th>\n",
       "      <th>location_Horamavu Agara</th>\n",
       "      <th>location_Vidyaranyapura</th>\n",
       "      <th>location_Hosur Road</th>\n",
       "      <th>location_Hebbal Kempapura</th>\n",
       "      <th>location_BTM 2nd Stage</th>\n",
       "      <th>location_Domlur</th>\n",
       "      <th>location_Horamavu Banaswadi</th>\n",
       "      <th>location_Tumkur Road</th>\n",
       "      <th>location_Mahadevpura</th>\n",
       "    </tr>\n",
       "  </thead>\n",
       "  <tbody>\n",
       "    <tr>\n",
       "      <th>0</th>\n",
       "      <td>3.0</td>\n",
       "      <td>2.0</td>\n",
       "      <td>150.0</td>\n",
       "      <td>1672.0</td>\n",
       "      <td>3</td>\n",
       "      <td>8971.291866</td>\n",
       "      <td>1</td>\n",
       "      <td>0</td>\n",
       "      <td>0</td>\n",
       "      <td>1</td>\n",
       "      <td>0</td>\n",
       "      <td>0</td>\n",
       "      <td>0</td>\n",
       "      <td>0</td>\n",
       "      <td>0</td>\n",
       "      <td>0</td>\n",
       "      <td>0</td>\n",
       "      <td>0</td>\n",
       "      <td>0</td>\n",
       "      <td>0</td>\n",
       "      <td>0</td>\n",
       "      <td>0</td>\n",
       "      <td>0</td>\n",
       "      <td>0</td>\n",
       "      <td>0</td>\n",
       "      <td>0</td>\n",
       "      <td>0</td>\n",
       "      <td>0</td>\n",
       "      <td>0</td>\n",
       "      <td>0</td>\n",
       "      <td>0</td>\n",
       "      <td>0</td>\n",
       "      <td>0</td>\n",
       "      <td>0</td>\n",
       "      <td>0</td>\n",
       "      <td>0</td>\n",
       "      <td>0</td>\n",
       "      <td>0</td>\n",
       "      <td>0</td>\n",
       "      <td>0</td>\n",
       "      <td>0</td>\n",
       "      <td>0</td>\n",
       "      <td>0</td>\n",
       "      <td>0</td>\n",
       "      <td>0</td>\n",
       "      <td>0</td>\n",
       "      <td>0</td>\n",
       "      <td>0</td>\n",
       "      <td>0</td>\n",
       "      <td>0</td>\n",
       "      <td>0</td>\n",
       "      <td>0</td>\n",
       "      <td>0</td>\n",
       "      <td>0</td>\n",
       "      <td>0</td>\n",
       "      <td>0</td>\n",
       "      <td>0</td>\n",
       "      <td>0</td>\n",
       "      <td>0</td>\n",
       "      <td>0</td>\n",
       "      <td>0</td>\n",
       "      <td>0</td>\n",
       "      <td>0</td>\n",
       "      <td>0</td>\n",
       "      <td>0</td>\n",
       "      <td>0</td>\n",
       "      <td>0</td>\n",
       "      <td>0</td>\n",
       "      <td>0</td>\n",
       "      <td>0</td>\n",
       "      <td>0</td>\n",
       "      <td>0</td>\n",
       "      <td>0</td>\n",
       "      <td>0</td>\n",
       "      <td>0</td>\n",
       "      <td>0</td>\n",
       "      <td>0</td>\n",
       "      <td>0</td>\n",
       "      <td>0</td>\n",
       "      <td>0</td>\n",
       "      <td>0</td>\n",
       "      <td>0</td>\n",
       "      <td>0</td>\n",
       "      <td>0</td>\n",
       "      <td>0</td>\n",
       "      <td>0</td>\n",
       "      <td>0</td>\n",
       "      <td>0</td>\n",
       "      <td>0</td>\n",
       "      <td>0</td>\n",
       "      <td>0</td>\n",
       "      <td>0</td>\n",
       "      <td>0</td>\n",
       "      <td>0</td>\n",
       "      <td>0</td>\n",
       "      <td>0</td>\n",
       "      <td>0</td>\n",
       "      <td>0</td>\n",
       "      <td>0</td>\n",
       "      <td>0</td>\n",
       "      <td>0</td>\n",
       "      <td>0</td>\n",
       "      <td>0</td>\n",
       "      <td>0</td>\n",
       "      <td>0</td>\n",
       "      <td>0</td>\n",
       "      <td>0</td>\n",
       "      <td>0</td>\n",
       "    </tr>\n",
       "    <tr>\n",
       "      <th>1</th>\n",
       "      <td>3.0</td>\n",
       "      <td>3.0</td>\n",
       "      <td>149.0</td>\n",
       "      <td>1750.0</td>\n",
       "      <td>3</td>\n",
       "      <td>8514.285714</td>\n",
       "      <td>0</td>\n",
       "      <td>1</td>\n",
       "      <td>0</td>\n",
       "      <td>1</td>\n",
       "      <td>0</td>\n",
       "      <td>0</td>\n",
       "      <td>0</td>\n",
       "      <td>0</td>\n",
       "      <td>0</td>\n",
       "      <td>0</td>\n",
       "      <td>0</td>\n",
       "      <td>0</td>\n",
       "      <td>0</td>\n",
       "      <td>0</td>\n",
       "      <td>0</td>\n",
       "      <td>0</td>\n",
       "      <td>0</td>\n",
       "      <td>0</td>\n",
       "      <td>0</td>\n",
       "      <td>0</td>\n",
       "      <td>0</td>\n",
       "      <td>0</td>\n",
       "      <td>0</td>\n",
       "      <td>0</td>\n",
       "      <td>0</td>\n",
       "      <td>0</td>\n",
       "      <td>0</td>\n",
       "      <td>0</td>\n",
       "      <td>0</td>\n",
       "      <td>0</td>\n",
       "      <td>0</td>\n",
       "      <td>0</td>\n",
       "      <td>0</td>\n",
       "      <td>0</td>\n",
       "      <td>0</td>\n",
       "      <td>0</td>\n",
       "      <td>0</td>\n",
       "      <td>0</td>\n",
       "      <td>0</td>\n",
       "      <td>0</td>\n",
       "      <td>0</td>\n",
       "      <td>0</td>\n",
       "      <td>0</td>\n",
       "      <td>0</td>\n",
       "      <td>0</td>\n",
       "      <td>0</td>\n",
       "      <td>0</td>\n",
       "      <td>0</td>\n",
       "      <td>0</td>\n",
       "      <td>0</td>\n",
       "      <td>0</td>\n",
       "      <td>0</td>\n",
       "      <td>0</td>\n",
       "      <td>0</td>\n",
       "      <td>0</td>\n",
       "      <td>0</td>\n",
       "      <td>0</td>\n",
       "      <td>0</td>\n",
       "      <td>0</td>\n",
       "      <td>0</td>\n",
       "      <td>0</td>\n",
       "      <td>0</td>\n",
       "      <td>0</td>\n",
       "      <td>0</td>\n",
       "      <td>0</td>\n",
       "      <td>0</td>\n",
       "      <td>0</td>\n",
       "      <td>0</td>\n",
       "      <td>0</td>\n",
       "      <td>0</td>\n",
       "      <td>0</td>\n",
       "      <td>0</td>\n",
       "      <td>0</td>\n",
       "      <td>0</td>\n",
       "      <td>0</td>\n",
       "      <td>0</td>\n",
       "      <td>0</td>\n",
       "      <td>0</td>\n",
       "      <td>0</td>\n",
       "      <td>0</td>\n",
       "      <td>0</td>\n",
       "      <td>0</td>\n",
       "      <td>0</td>\n",
       "      <td>0</td>\n",
       "      <td>0</td>\n",
       "      <td>0</td>\n",
       "      <td>0</td>\n",
       "      <td>0</td>\n",
       "      <td>0</td>\n",
       "      <td>0</td>\n",
       "      <td>0</td>\n",
       "      <td>0</td>\n",
       "      <td>0</td>\n",
       "      <td>0</td>\n",
       "      <td>0</td>\n",
       "      <td>0</td>\n",
       "      <td>0</td>\n",
       "      <td>0</td>\n",
       "      <td>0</td>\n",
       "      <td>0</td>\n",
       "      <td>0</td>\n",
       "      <td>0</td>\n",
       "    </tr>\n",
       "    <tr>\n",
       "      <th>2</th>\n",
       "      <td>3.0</td>\n",
       "      <td>2.0</td>\n",
       "      <td>150.0</td>\n",
       "      <td>1750.0</td>\n",
       "      <td>3</td>\n",
       "      <td>8571.428571</td>\n",
       "      <td>1</td>\n",
       "      <td>0</td>\n",
       "      <td>0</td>\n",
       "      <td>1</td>\n",
       "      <td>0</td>\n",
       "      <td>0</td>\n",
       "      <td>0</td>\n",
       "      <td>0</td>\n",
       "      <td>0</td>\n",
       "      <td>0</td>\n",
       "      <td>0</td>\n",
       "      <td>0</td>\n",
       "      <td>0</td>\n",
       "      <td>0</td>\n",
       "      <td>0</td>\n",
       "      <td>0</td>\n",
       "      <td>0</td>\n",
       "      <td>0</td>\n",
       "      <td>0</td>\n",
       "      <td>0</td>\n",
       "      <td>0</td>\n",
       "      <td>0</td>\n",
       "      <td>0</td>\n",
       "      <td>0</td>\n",
       "      <td>0</td>\n",
       "      <td>0</td>\n",
       "      <td>0</td>\n",
       "      <td>0</td>\n",
       "      <td>0</td>\n",
       "      <td>0</td>\n",
       "      <td>0</td>\n",
       "      <td>0</td>\n",
       "      <td>0</td>\n",
       "      <td>0</td>\n",
       "      <td>0</td>\n",
       "      <td>0</td>\n",
       "      <td>0</td>\n",
       "      <td>0</td>\n",
       "      <td>0</td>\n",
       "      <td>0</td>\n",
       "      <td>0</td>\n",
       "      <td>0</td>\n",
       "      <td>0</td>\n",
       "      <td>0</td>\n",
       "      <td>0</td>\n",
       "      <td>0</td>\n",
       "      <td>0</td>\n",
       "      <td>0</td>\n",
       "      <td>0</td>\n",
       "      <td>0</td>\n",
       "      <td>0</td>\n",
       "      <td>0</td>\n",
       "      <td>0</td>\n",
       "      <td>0</td>\n",
       "      <td>0</td>\n",
       "      <td>0</td>\n",
       "      <td>0</td>\n",
       "      <td>0</td>\n",
       "      <td>0</td>\n",
       "      <td>0</td>\n",
       "      <td>0</td>\n",
       "      <td>0</td>\n",
       "      <td>0</td>\n",
       "      <td>0</td>\n",
       "      <td>0</td>\n",
       "      <td>0</td>\n",
       "      <td>0</td>\n",
       "      <td>0</td>\n",
       "      <td>0</td>\n",
       "      <td>0</td>\n",
       "      <td>0</td>\n",
       "      <td>0</td>\n",
       "      <td>0</td>\n",
       "      <td>0</td>\n",
       "      <td>0</td>\n",
       "      <td>0</td>\n",
       "      <td>0</td>\n",
       "      <td>0</td>\n",
       "      <td>0</td>\n",
       "      <td>0</td>\n",
       "      <td>0</td>\n",
       "      <td>0</td>\n",
       "      <td>0</td>\n",
       "      <td>0</td>\n",
       "      <td>0</td>\n",
       "      <td>0</td>\n",
       "      <td>0</td>\n",
       "      <td>0</td>\n",
       "      <td>0</td>\n",
       "      <td>0</td>\n",
       "      <td>0</td>\n",
       "      <td>0</td>\n",
       "      <td>0</td>\n",
       "      <td>0</td>\n",
       "      <td>0</td>\n",
       "      <td>0</td>\n",
       "      <td>0</td>\n",
       "      <td>0</td>\n",
       "      <td>0</td>\n",
       "      <td>0</td>\n",
       "      <td>0</td>\n",
       "      <td>0</td>\n",
       "    </tr>\n",
       "    <tr>\n",
       "      <th>3</th>\n",
       "      <td>2.0</td>\n",
       "      <td>2.0</td>\n",
       "      <td>40.0</td>\n",
       "      <td>1250.0</td>\n",
       "      <td>2</td>\n",
       "      <td>3200.000000</td>\n",
       "      <td>1</td>\n",
       "      <td>0</td>\n",
       "      <td>0</td>\n",
       "      <td>1</td>\n",
       "      <td>0</td>\n",
       "      <td>0</td>\n",
       "      <td>0</td>\n",
       "      <td>0</td>\n",
       "      <td>0</td>\n",
       "      <td>0</td>\n",
       "      <td>0</td>\n",
       "      <td>0</td>\n",
       "      <td>0</td>\n",
       "      <td>0</td>\n",
       "      <td>0</td>\n",
       "      <td>0</td>\n",
       "      <td>0</td>\n",
       "      <td>0</td>\n",
       "      <td>0</td>\n",
       "      <td>0</td>\n",
       "      <td>0</td>\n",
       "      <td>0</td>\n",
       "      <td>0</td>\n",
       "      <td>0</td>\n",
       "      <td>0</td>\n",
       "      <td>0</td>\n",
       "      <td>0</td>\n",
       "      <td>0</td>\n",
       "      <td>0</td>\n",
       "      <td>0</td>\n",
       "      <td>0</td>\n",
       "      <td>0</td>\n",
       "      <td>0</td>\n",
       "      <td>0</td>\n",
       "      <td>0</td>\n",
       "      <td>0</td>\n",
       "      <td>0</td>\n",
       "      <td>0</td>\n",
       "      <td>0</td>\n",
       "      <td>0</td>\n",
       "      <td>0</td>\n",
       "      <td>0</td>\n",
       "      <td>0</td>\n",
       "      <td>0</td>\n",
       "      <td>0</td>\n",
       "      <td>0</td>\n",
       "      <td>0</td>\n",
       "      <td>0</td>\n",
       "      <td>0</td>\n",
       "      <td>0</td>\n",
       "      <td>0</td>\n",
       "      <td>0</td>\n",
       "      <td>0</td>\n",
       "      <td>0</td>\n",
       "      <td>0</td>\n",
       "      <td>0</td>\n",
       "      <td>0</td>\n",
       "      <td>0</td>\n",
       "      <td>0</td>\n",
       "      <td>0</td>\n",
       "      <td>0</td>\n",
       "      <td>0</td>\n",
       "      <td>0</td>\n",
       "      <td>0</td>\n",
       "      <td>0</td>\n",
       "      <td>0</td>\n",
       "      <td>0</td>\n",
       "      <td>0</td>\n",
       "      <td>0</td>\n",
       "      <td>0</td>\n",
       "      <td>0</td>\n",
       "      <td>0</td>\n",
       "      <td>0</td>\n",
       "      <td>0</td>\n",
       "      <td>0</td>\n",
       "      <td>0</td>\n",
       "      <td>0</td>\n",
       "      <td>0</td>\n",
       "      <td>0</td>\n",
       "      <td>0</td>\n",
       "      <td>0</td>\n",
       "      <td>0</td>\n",
       "      <td>0</td>\n",
       "      <td>0</td>\n",
       "      <td>0</td>\n",
       "      <td>0</td>\n",
       "      <td>0</td>\n",
       "      <td>0</td>\n",
       "      <td>0</td>\n",
       "      <td>0</td>\n",
       "      <td>0</td>\n",
       "      <td>0</td>\n",
       "      <td>0</td>\n",
       "      <td>0</td>\n",
       "      <td>0</td>\n",
       "      <td>0</td>\n",
       "      <td>0</td>\n",
       "      <td>0</td>\n",
       "      <td>0</td>\n",
       "      <td>0</td>\n",
       "      <td>0</td>\n",
       "      <td>0</td>\n",
       "    </tr>\n",
       "    <tr>\n",
       "      <th>4</th>\n",
       "      <td>2.0</td>\n",
       "      <td>2.0</td>\n",
       "      <td>83.0</td>\n",
       "      <td>1200.0</td>\n",
       "      <td>2</td>\n",
       "      <td>6916.666667</td>\n",
       "      <td>0</td>\n",
       "      <td>0</td>\n",
       "      <td>1</td>\n",
       "      <td>1</td>\n",
       "      <td>0</td>\n",
       "      <td>0</td>\n",
       "      <td>0</td>\n",
       "      <td>0</td>\n",
       "      <td>0</td>\n",
       "      <td>0</td>\n",
       "      <td>0</td>\n",
       "      <td>0</td>\n",
       "      <td>0</td>\n",
       "      <td>0</td>\n",
       "      <td>0</td>\n",
       "      <td>0</td>\n",
       "      <td>0</td>\n",
       "      <td>0</td>\n",
       "      <td>0</td>\n",
       "      <td>0</td>\n",
       "      <td>0</td>\n",
       "      <td>0</td>\n",
       "      <td>0</td>\n",
       "      <td>0</td>\n",
       "      <td>0</td>\n",
       "      <td>0</td>\n",
       "      <td>0</td>\n",
       "      <td>0</td>\n",
       "      <td>0</td>\n",
       "      <td>0</td>\n",
       "      <td>0</td>\n",
       "      <td>0</td>\n",
       "      <td>0</td>\n",
       "      <td>0</td>\n",
       "      <td>0</td>\n",
       "      <td>0</td>\n",
       "      <td>0</td>\n",
       "      <td>0</td>\n",
       "      <td>0</td>\n",
       "      <td>0</td>\n",
       "      <td>0</td>\n",
       "      <td>0</td>\n",
       "      <td>0</td>\n",
       "      <td>0</td>\n",
       "      <td>0</td>\n",
       "      <td>0</td>\n",
       "      <td>0</td>\n",
       "      <td>0</td>\n",
       "      <td>0</td>\n",
       "      <td>0</td>\n",
       "      <td>0</td>\n",
       "      <td>0</td>\n",
       "      <td>0</td>\n",
       "      <td>0</td>\n",
       "      <td>0</td>\n",
       "      <td>0</td>\n",
       "      <td>0</td>\n",
       "      <td>0</td>\n",
       "      <td>0</td>\n",
       "      <td>0</td>\n",
       "      <td>0</td>\n",
       "      <td>0</td>\n",
       "      <td>0</td>\n",
       "      <td>0</td>\n",
       "      <td>0</td>\n",
       "      <td>0</td>\n",
       "      <td>0</td>\n",
       "      <td>0</td>\n",
       "      <td>0</td>\n",
       "      <td>0</td>\n",
       "      <td>0</td>\n",
       "      <td>0</td>\n",
       "      <td>0</td>\n",
       "      <td>0</td>\n",
       "      <td>0</td>\n",
       "      <td>0</td>\n",
       "      <td>0</td>\n",
       "      <td>0</td>\n",
       "      <td>0</td>\n",
       "      <td>0</td>\n",
       "      <td>0</td>\n",
       "      <td>0</td>\n",
       "      <td>0</td>\n",
       "      <td>0</td>\n",
       "      <td>0</td>\n",
       "      <td>0</td>\n",
       "      <td>0</td>\n",
       "      <td>0</td>\n",
       "      <td>0</td>\n",
       "      <td>0</td>\n",
       "      <td>0</td>\n",
       "      <td>0</td>\n",
       "      <td>0</td>\n",
       "      <td>0</td>\n",
       "      <td>0</td>\n",
       "      <td>0</td>\n",
       "      <td>0</td>\n",
       "      <td>0</td>\n",
       "      <td>0</td>\n",
       "      <td>0</td>\n",
       "      <td>0</td>\n",
       "      <td>0</td>\n",
       "    </tr>\n",
       "  </tbody>\n",
       "</table>\n",
       "</div>"
      ],
      "text/plain": [
       "   bath  balcony  price  total_sqft_int  bhk  price_per_sqft  \\\n",
       "0   3.0      2.0  150.0          1672.0    3     8971.291866   \n",
       "1   3.0      3.0  149.0          1750.0    3     8514.285714   \n",
       "2   3.0      2.0  150.0          1750.0    3     8571.428571   \n",
       "3   2.0      2.0   40.0          1250.0    2     3200.000000   \n",
       "4   2.0      2.0   83.0          1200.0    2     6916.666667   \n",
       "\n",
       "   area_typeSuper built-up  Area  area_typeBuilt-up  Area  \\\n",
       "0                              1                        0   \n",
       "1                              0                        1   \n",
       "2                              1                        0   \n",
       "3                              1                        0   \n",
       "4                              0                        0   \n",
       "\n",
       "   area_typePlot  Area  availability_Ready To Move  location_Whitefield  \\\n",
       "0                    0                           1                    0   \n",
       "1                    0                           1                    0   \n",
       "2                    0                           1                    0   \n",
       "3                    0                           1                    0   \n",
       "4                    1                           1                    0   \n",
       "\n",
       "   location_Sarjapur  Road  location_Electronic City  location_Marathahalli  \\\n",
       "0                        0                         0                      0   \n",
       "1                        0                         0                      0   \n",
       "2                        0                         0                      0   \n",
       "3                        0                         0                      0   \n",
       "4                        0                         0                      0   \n",
       "\n",
       "   location_Raja Rajeshwari Nagar  location_Haralur Road  \\\n",
       "0                               0                      0   \n",
       "1                               0                      0   \n",
       "2                               0                      0   \n",
       "3                               0                      0   \n",
       "4                               0                      0   \n",
       "\n",
       "   location_Hennur Road  location_Bannerghatta Road  location_Uttarahalli  \\\n",
       "0                     0                           0                     0   \n",
       "1                     0                           0                     0   \n",
       "2                     0                           0                     0   \n",
       "3                     0                           0                     0   \n",
       "4                     0                           0                     0   \n",
       "\n",
       "   location_Thanisandra  location_Electronic City Phase II  location_Hebbal  \\\n",
       "0                     0                                  0                0   \n",
       "1                     0                                  0                0   \n",
       "2                     0                                  0                0   \n",
       "3                     0                                  0                0   \n",
       "4                     0                                  0                0   \n",
       "\n",
       "   location_Yelahanka  location_7th Phase JP Nagar  location_Kanakpura Road  \\\n",
       "0                   0                            0                        0   \n",
       "1                   0                            0                        0   \n",
       "2                   0                            0                        0   \n",
       "3                   0                            0                        0   \n",
       "4                   0                            0                        0   \n",
       "\n",
       "   location_KR Puram  location_Sarjapur  location_Rajaji Nagar  \\\n",
       "0                  0                  0                      0   \n",
       "1                  0                  0                      0   \n",
       "2                  0                  0                      0   \n",
       "3                  0                  0                      0   \n",
       "4                  0                  0                      0   \n",
       "\n",
       "   location_Bellandur  location_Kasavanhalli  location_Begur Road  \\\n",
       "0                   0                      0                    0   \n",
       "1                   0                      0                    0   \n",
       "2                   0                      0                    0   \n",
       "3                   0                      0                    0   \n",
       "4                   0                      0                    0   \n",
       "\n",
       "   location_Banashankari  location_Kothanur  location_Hormavu  \\\n",
       "0                      0                  0                 0   \n",
       "1                      0                  0                 0   \n",
       "2                      0                  0                 0   \n",
       "3                      0                  0                 0   \n",
       "4                      0                  0                 0   \n",
       "\n",
       "   location_Harlur  location_Akshaya Nagar  location_Electronics City Phase 1  \\\n",
       "0                0                       0                                  0   \n",
       "1                0                       0                                  0   \n",
       "2                0                       0                                  0   \n",
       "3                0                       0                                  0   \n",
       "4                0                       0                                  0   \n",
       "\n",
       "   location_Jakkur  location_Varthur  location_HSR Layout  location_Hennur  \\\n",
       "0                0                 0                    0                0   \n",
       "1                0                 0                    0                0   \n",
       "2                0                 0                    0                0   \n",
       "3                0                 0                    0                0   \n",
       "4                0                 0                    0                0   \n",
       "\n",
       "   location_Ramamurthy Nagar  location_Chandapura  location_Koramangala  \\\n",
       "0                          0                    0                     0   \n",
       "1                          0                    0                     0   \n",
       "2                          0                    0                     0   \n",
       "3                          0                    0                     0   \n",
       "4                          0                    0                     0   \n",
       "\n",
       "   location_Kaggadasapura  location_Kundalahalli  location_Ramagondanahalli  \\\n",
       "0                       0                      0                          0   \n",
       "1                       0                      0                          0   \n",
       "2                       0                      0                          0   \n",
       "3                       0                      0                          0   \n",
       "4                       0                      0                          0   \n",
       "\n",
       "   location_Budigere  location_Hulimavu  location_Hoodi  \\\n",
       "0                  0                  0               0   \n",
       "1                  0                  0               0   \n",
       "2                  0                  0               0   \n",
       "3                  0                  0               0   \n",
       "4                  0                  0               0   \n",
       "\n",
       "   location_Malleshwaram  location_Hegde Nagar  location_Yeshwanthpur  \\\n",
       "0                      0                     0                      0   \n",
       "1                      0                     0                      0   \n",
       "2                      0                     0                      0   \n",
       "3                      0                     0                      0   \n",
       "4                      0                     0                      0   \n",
       "\n",
       "   location_Gottigere  location_8th Phase JP Nagar  location_JP Nagar  \\\n",
       "0                   0                            0                  0   \n",
       "1                   0                            0                  0   \n",
       "2                   0                            0                  0   \n",
       "3                   0                            0                  0   \n",
       "4                   0                            0                  0   \n",
       "\n",
       "   location_Channasandra  location_Bisuvanahalli  location_Vittasandra  \\\n",
       "0                      0                       0                     0   \n",
       "1                      0                       0                     0   \n",
       "2                      0                       0                     0   \n",
       "3                      0                       0                     0   \n",
       "4                      0                       0                     0   \n",
       "\n",
       "   location_Indira Nagar  location_Old Airport Road  location_Sahakara Nagar  \\\n",
       "0                      0                          0                        0   \n",
       "1                      0                          0                        0   \n",
       "2                      0                          0                        0   \n",
       "3                      0                          0                        0   \n",
       "4                      0                          0                        0   \n",
       "\n",
       "   location_Brookefield  location_Kengeri  location_Hosa Road  \\\n",
       "0                     0                 0                   0   \n",
       "1                     0                 0                   0   \n",
       "2                     0                 0                   0   \n",
       "3                     0                 0                   0   \n",
       "4                     0                 0                   0   \n",
       "\n",
       "   location_Vijayanagar  location_Balagere  location_Green Glen Layout  \\\n",
       "0                     0                  0                           0   \n",
       "1                     0                  0                           0   \n",
       "2                     0                  0                           0   \n",
       "3                     0                  0                           0   \n",
       "4                     0                  0                           0   \n",
       "\n",
       "   location_Bommasandra  location_Rachenahalli  location_Panathur  \\\n",
       "0                     0                      0                  0   \n",
       "1                     0                      0                  0   \n",
       "2                     0                      0                  0   \n",
       "3                     0                      0                  0   \n",
       "4                     0                      0                  0   \n",
       "\n",
       "   location_Old Madras Road  location_Kudlu Gate  location_Mysore Road  \\\n",
       "0                         0                    0                     0   \n",
       "1                         0                    0                     0   \n",
       "2                         0                    0                     0   \n",
       "3                         0                    0                     0   \n",
       "4                         0                    0                     0   \n",
       "\n",
       "   location_Thigalarapalya  location_Talaghattapura  location_Kadugodi  \\\n",
       "0                        0                        0                  0   \n",
       "1                        0                        0                  0   \n",
       "2                        0                        0                  0   \n",
       "3                        0                        0                  0   \n",
       "4                        0                        0                  0   \n",
       "\n",
       "   location_Ambedkar Nagar  location_Jigani  location_Yelahanka New Town  \\\n",
       "0                        0                0                            0   \n",
       "1                        0                0                            0   \n",
       "2                        0                0                            0   \n",
       "3                        0                0                            0   \n",
       "4                        0                0                            0   \n",
       "\n",
       "   location_Frazer Town  location_Kanakapura  location_Attibele  \\\n",
       "0                     0                    0                  0   \n",
       "1                     0                    0                  0   \n",
       "2                     0                    0                  0   \n",
       "3                     0                    0                  0   \n",
       "4                     0                    0                  0   \n",
       "\n",
       "   location_Dodda Nekkundi  location_Devanahalli  \\\n",
       "0                        0                     0   \n",
       "1                        0                     0   \n",
       "2                        0                     0   \n",
       "3                        0                     0   \n",
       "4                        0                     0   \n",
       "\n",
       "   location_Lakshminarayana Pura  location_Nagarbhavi  \\\n",
       "0                              0                    0   \n",
       "1                              0                    0   \n",
       "2                              0                    0   \n",
       "3                              0                    0   \n",
       "4                              0                    0   \n",
       "\n",
       "   location_5th Phase JP Nagar  location_TC Palaya  location_Ananth Nagar  \\\n",
       "0                            0                   0                      0   \n",
       "1                            0                   0                      0   \n",
       "2                            0                   0                      0   \n",
       "3                            0                   0                      0   \n",
       "4                            0                   0                      0   \n",
       "\n",
       "   location_Anekal  location_Kudlu  location_CV Raman Nagar  \\\n",
       "0                0               0                        0   \n",
       "1                0               0                        0   \n",
       "2                0               0                        0   \n",
       "3                0               0                        0   \n",
       "4                0               0                        0   \n",
       "\n",
       "   location_Jalahalli  location_Kengeri Satellite Town  location_Doddathoguru  \\\n",
       "0                   0                                0                      0   \n",
       "1                   0                                0                      0   \n",
       "2                   0                                0                      0   \n",
       "3                   0                                0                      0   \n",
       "4                   0                                0                      0   \n",
       "\n",
       "   location_Bhoganhalli  location_Subramanyapura  location_Kalena Agrahara  \\\n",
       "0                     0                        0                         0   \n",
       "1                     0                        0                         0   \n",
       "2                     0                        0                         0   \n",
       "3                     0                        0                         0   \n",
       "4                     0                        0                         0   \n",
       "\n",
       "   location_Horamavu Agara  location_Vidyaranyapura  location_Hosur Road  \\\n",
       "0                        0                        0                    0   \n",
       "1                        0                        0                    0   \n",
       "2                        0                        0                    0   \n",
       "3                        0                        0                    0   \n",
       "4                        0                        0                    0   \n",
       "\n",
       "   location_Hebbal Kempapura  location_BTM 2nd Stage  location_Domlur  \\\n",
       "0                          0                       0                0   \n",
       "1                          0                       0                0   \n",
       "2                          0                       0                0   \n",
       "3                          0                       0                0   \n",
       "4                          0                       0                0   \n",
       "\n",
       "   location_Horamavu Banaswadi  location_Tumkur Road  location_Mahadevpura  \n",
       "0                            0                     0                     0  \n",
       "1                            0                     0                     0  \n",
       "2                            0                     0                     0  \n",
       "3                            0                     0                     0  \n",
       "4                            0                     0                     0  "
      ]
     },
     "execution_count": 23,
     "metadata": {},
     "output_type": "execute_result"
    }
   ],
   "source": [
    "df.head()"
   ]
  },
  {
   "cell_type": "code",
   "execution_count": 24,
   "metadata": {
    "colab": {
     "base_uri": "https://localhost:8080/",
     "height": 258
    },
    "colab_type": "code",
    "executionInfo": {
     "elapsed": 3822,
     "status": "ok",
     "timestamp": 1593078489654,
     "user": {
      "displayName": "indian ai production",
      "photoUrl": "",
      "userId": "05336710603640792650"
     },
     "user_tz": -330
    },
    "id": "ye85e6KVQg55",
    "outputId": "5264f298-b814-4821-dcea-fc89a4c7d31d"
   },
   "outputs": [
    {
     "data": {
      "text/html": [
       "<div>\n",
       "<style scoped>\n",
       "    .dataframe tbody tr th:only-of-type {\n",
       "        vertical-align: middle;\n",
       "    }\n",
       "\n",
       "    .dataframe tbody tr th {\n",
       "        vertical-align: top;\n",
       "    }\n",
       "\n",
       "    .dataframe thead th {\n",
       "        text-align: right;\n",
       "    }\n",
       "</style>\n",
       "<table border=\"1\" class=\"dataframe\">\n",
       "  <thead>\n",
       "    <tr style=\"text-align: right;\">\n",
       "      <th></th>\n",
       "      <th>bath</th>\n",
       "      <th>balcony</th>\n",
       "      <th>price</th>\n",
       "      <th>total_sqft_int</th>\n",
       "      <th>bhk</th>\n",
       "      <th>price_per_sqft</th>\n",
       "      <th>area_typeSuper built-up  Area</th>\n",
       "      <th>area_typeBuilt-up  Area</th>\n",
       "      <th>area_typePlot  Area</th>\n",
       "      <th>availability_Ready To Move</th>\n",
       "      <th>location_Whitefield</th>\n",
       "      <th>location_Sarjapur  Road</th>\n",
       "      <th>location_Electronic City</th>\n",
       "      <th>location_Marathahalli</th>\n",
       "      <th>location_Raja Rajeshwari Nagar</th>\n",
       "      <th>location_Haralur Road</th>\n",
       "      <th>location_Hennur Road</th>\n",
       "      <th>location_Bannerghatta Road</th>\n",
       "      <th>location_Uttarahalli</th>\n",
       "      <th>location_Thanisandra</th>\n",
       "      <th>location_Electronic City Phase II</th>\n",
       "      <th>location_Hebbal</th>\n",
       "      <th>location_Yelahanka</th>\n",
       "      <th>location_7th Phase JP Nagar</th>\n",
       "      <th>location_Kanakpura Road</th>\n",
       "      <th>location_KR Puram</th>\n",
       "      <th>location_Sarjapur</th>\n",
       "      <th>location_Rajaji Nagar</th>\n",
       "      <th>location_Bellandur</th>\n",
       "      <th>location_Kasavanhalli</th>\n",
       "      <th>location_Begur Road</th>\n",
       "      <th>location_Banashankari</th>\n",
       "      <th>location_Kothanur</th>\n",
       "      <th>location_Hormavu</th>\n",
       "      <th>location_Harlur</th>\n",
       "      <th>location_Akshaya Nagar</th>\n",
       "      <th>location_Electronics City Phase 1</th>\n",
       "      <th>location_Jakkur</th>\n",
       "      <th>location_Varthur</th>\n",
       "      <th>location_HSR Layout</th>\n",
       "      <th>location_Hennur</th>\n",
       "      <th>location_Ramamurthy Nagar</th>\n",
       "      <th>location_Chandapura</th>\n",
       "      <th>location_Koramangala</th>\n",
       "      <th>location_Kaggadasapura</th>\n",
       "      <th>location_Kundalahalli</th>\n",
       "      <th>location_Ramagondanahalli</th>\n",
       "      <th>location_Budigere</th>\n",
       "      <th>location_Hulimavu</th>\n",
       "      <th>location_Hoodi</th>\n",
       "      <th>location_Malleshwaram</th>\n",
       "      <th>location_Hegde Nagar</th>\n",
       "      <th>location_Yeshwanthpur</th>\n",
       "      <th>location_Gottigere</th>\n",
       "      <th>location_8th Phase JP Nagar</th>\n",
       "      <th>location_JP Nagar</th>\n",
       "      <th>location_Channasandra</th>\n",
       "      <th>location_Bisuvanahalli</th>\n",
       "      <th>location_Vittasandra</th>\n",
       "      <th>location_Indira Nagar</th>\n",
       "      <th>location_Old Airport Road</th>\n",
       "      <th>location_Sahakara Nagar</th>\n",
       "      <th>location_Brookefield</th>\n",
       "      <th>location_Kengeri</th>\n",
       "      <th>location_Hosa Road</th>\n",
       "      <th>location_Vijayanagar</th>\n",
       "      <th>location_Balagere</th>\n",
       "      <th>location_Green Glen Layout</th>\n",
       "      <th>location_Bommasandra</th>\n",
       "      <th>location_Rachenahalli</th>\n",
       "      <th>location_Panathur</th>\n",
       "      <th>location_Old Madras Road</th>\n",
       "      <th>location_Kudlu Gate</th>\n",
       "      <th>location_Mysore Road</th>\n",
       "      <th>location_Thigalarapalya</th>\n",
       "      <th>location_Talaghattapura</th>\n",
       "      <th>location_Kadugodi</th>\n",
       "      <th>location_Ambedkar Nagar</th>\n",
       "      <th>location_Jigani</th>\n",
       "      <th>location_Yelahanka New Town</th>\n",
       "      <th>location_Frazer Town</th>\n",
       "      <th>location_Kanakapura</th>\n",
       "      <th>location_Attibele</th>\n",
       "      <th>location_Dodda Nekkundi</th>\n",
       "      <th>location_Devanahalli</th>\n",
       "      <th>location_Lakshminarayana Pura</th>\n",
       "      <th>location_Nagarbhavi</th>\n",
       "      <th>location_5th Phase JP Nagar</th>\n",
       "      <th>location_TC Palaya</th>\n",
       "      <th>location_Ananth Nagar</th>\n",
       "      <th>location_Anekal</th>\n",
       "      <th>location_Kudlu</th>\n",
       "      <th>location_CV Raman Nagar</th>\n",
       "      <th>location_Jalahalli</th>\n",
       "      <th>location_Kengeri Satellite Town</th>\n",
       "      <th>location_Doddathoguru</th>\n",
       "      <th>location_Bhoganhalli</th>\n",
       "      <th>location_Subramanyapura</th>\n",
       "      <th>location_Kalena Agrahara</th>\n",
       "      <th>location_Horamavu Agara</th>\n",
       "      <th>location_Vidyaranyapura</th>\n",
       "      <th>location_Hosur Road</th>\n",
       "      <th>location_Hebbal Kempapura</th>\n",
       "      <th>location_BTM 2nd Stage</th>\n",
       "      <th>location_Domlur</th>\n",
       "      <th>location_Horamavu Banaswadi</th>\n",
       "      <th>location_Tumkur Road</th>\n",
       "      <th>location_Mahadevpura</th>\n",
       "    </tr>\n",
       "  </thead>\n",
       "  <tbody>\n",
       "    <tr>\n",
       "      <th>0</th>\n",
       "      <td>3.0</td>\n",
       "      <td>2.0</td>\n",
       "      <td>150.0</td>\n",
       "      <td>1672.0</td>\n",
       "      <td>3</td>\n",
       "      <td>8971.291866</td>\n",
       "      <td>1</td>\n",
       "      <td>0</td>\n",
       "      <td>0</td>\n",
       "      <td>1</td>\n",
       "      <td>0</td>\n",
       "      <td>0</td>\n",
       "      <td>0</td>\n",
       "      <td>0</td>\n",
       "      <td>0</td>\n",
       "      <td>0</td>\n",
       "      <td>0</td>\n",
       "      <td>0</td>\n",
       "      <td>0</td>\n",
       "      <td>0</td>\n",
       "      <td>0</td>\n",
       "      <td>0</td>\n",
       "      <td>0</td>\n",
       "      <td>0</td>\n",
       "      <td>0</td>\n",
       "      <td>0</td>\n",
       "      <td>0</td>\n",
       "      <td>0</td>\n",
       "      <td>0</td>\n",
       "      <td>0</td>\n",
       "      <td>0</td>\n",
       "      <td>0</td>\n",
       "      <td>0</td>\n",
       "      <td>0</td>\n",
       "      <td>0</td>\n",
       "      <td>0</td>\n",
       "      <td>0</td>\n",
       "      <td>0</td>\n",
       "      <td>0</td>\n",
       "      <td>0</td>\n",
       "      <td>0</td>\n",
       "      <td>0</td>\n",
       "      <td>0</td>\n",
       "      <td>0</td>\n",
       "      <td>0</td>\n",
       "      <td>0</td>\n",
       "      <td>0</td>\n",
       "      <td>0</td>\n",
       "      <td>0</td>\n",
       "      <td>0</td>\n",
       "      <td>0</td>\n",
       "      <td>0</td>\n",
       "      <td>0</td>\n",
       "      <td>0</td>\n",
       "      <td>0</td>\n",
       "      <td>0</td>\n",
       "      <td>0</td>\n",
       "      <td>0</td>\n",
       "      <td>0</td>\n",
       "      <td>0</td>\n",
       "      <td>0</td>\n",
       "      <td>0</td>\n",
       "      <td>0</td>\n",
       "      <td>0</td>\n",
       "      <td>0</td>\n",
       "      <td>0</td>\n",
       "      <td>0</td>\n",
       "      <td>0</td>\n",
       "      <td>0</td>\n",
       "      <td>0</td>\n",
       "      <td>0</td>\n",
       "      <td>0</td>\n",
       "      <td>0</td>\n",
       "      <td>0</td>\n",
       "      <td>0</td>\n",
       "      <td>0</td>\n",
       "      <td>0</td>\n",
       "      <td>0</td>\n",
       "      <td>0</td>\n",
       "      <td>0</td>\n",
       "      <td>0</td>\n",
       "      <td>0</td>\n",
       "      <td>0</td>\n",
       "      <td>0</td>\n",
       "      <td>0</td>\n",
       "      <td>0</td>\n",
       "      <td>0</td>\n",
       "      <td>0</td>\n",
       "      <td>0</td>\n",
       "      <td>0</td>\n",
       "      <td>0</td>\n",
       "      <td>0</td>\n",
       "      <td>0</td>\n",
       "      <td>0</td>\n",
       "      <td>0</td>\n",
       "      <td>0</td>\n",
       "      <td>0</td>\n",
       "      <td>0</td>\n",
       "      <td>0</td>\n",
       "      <td>0</td>\n",
       "      <td>0</td>\n",
       "      <td>0</td>\n",
       "      <td>0</td>\n",
       "      <td>0</td>\n",
       "      <td>0</td>\n",
       "      <td>0</td>\n",
       "      <td>0</td>\n",
       "      <td>0</td>\n",
       "    </tr>\n",
       "    <tr>\n",
       "      <th>1</th>\n",
       "      <td>3.0</td>\n",
       "      <td>3.0</td>\n",
       "      <td>149.0</td>\n",
       "      <td>1750.0</td>\n",
       "      <td>3</td>\n",
       "      <td>8514.285714</td>\n",
       "      <td>0</td>\n",
       "      <td>1</td>\n",
       "      <td>0</td>\n",
       "      <td>1</td>\n",
       "      <td>0</td>\n",
       "      <td>0</td>\n",
       "      <td>0</td>\n",
       "      <td>0</td>\n",
       "      <td>0</td>\n",
       "      <td>0</td>\n",
       "      <td>0</td>\n",
       "      <td>0</td>\n",
       "      <td>0</td>\n",
       "      <td>0</td>\n",
       "      <td>0</td>\n",
       "      <td>0</td>\n",
       "      <td>0</td>\n",
       "      <td>0</td>\n",
       "      <td>0</td>\n",
       "      <td>0</td>\n",
       "      <td>0</td>\n",
       "      <td>0</td>\n",
       "      <td>0</td>\n",
       "      <td>0</td>\n",
       "      <td>0</td>\n",
       "      <td>0</td>\n",
       "      <td>0</td>\n",
       "      <td>0</td>\n",
       "      <td>0</td>\n",
       "      <td>0</td>\n",
       "      <td>0</td>\n",
       "      <td>0</td>\n",
       "      <td>0</td>\n",
       "      <td>0</td>\n",
       "      <td>0</td>\n",
       "      <td>0</td>\n",
       "      <td>0</td>\n",
       "      <td>0</td>\n",
       "      <td>0</td>\n",
       "      <td>0</td>\n",
       "      <td>0</td>\n",
       "      <td>0</td>\n",
       "      <td>0</td>\n",
       "      <td>0</td>\n",
       "      <td>0</td>\n",
       "      <td>0</td>\n",
       "      <td>0</td>\n",
       "      <td>0</td>\n",
       "      <td>0</td>\n",
       "      <td>0</td>\n",
       "      <td>0</td>\n",
       "      <td>0</td>\n",
       "      <td>0</td>\n",
       "      <td>0</td>\n",
       "      <td>0</td>\n",
       "      <td>0</td>\n",
       "      <td>0</td>\n",
       "      <td>0</td>\n",
       "      <td>0</td>\n",
       "      <td>0</td>\n",
       "      <td>0</td>\n",
       "      <td>0</td>\n",
       "      <td>0</td>\n",
       "      <td>0</td>\n",
       "      <td>0</td>\n",
       "      <td>0</td>\n",
       "      <td>0</td>\n",
       "      <td>0</td>\n",
       "      <td>0</td>\n",
       "      <td>0</td>\n",
       "      <td>0</td>\n",
       "      <td>0</td>\n",
       "      <td>0</td>\n",
       "      <td>0</td>\n",
       "      <td>0</td>\n",
       "      <td>0</td>\n",
       "      <td>0</td>\n",
       "      <td>0</td>\n",
       "      <td>0</td>\n",
       "      <td>0</td>\n",
       "      <td>0</td>\n",
       "      <td>0</td>\n",
       "      <td>0</td>\n",
       "      <td>0</td>\n",
       "      <td>0</td>\n",
       "      <td>0</td>\n",
       "      <td>0</td>\n",
       "      <td>0</td>\n",
       "      <td>0</td>\n",
       "      <td>0</td>\n",
       "      <td>0</td>\n",
       "      <td>0</td>\n",
       "      <td>0</td>\n",
       "      <td>0</td>\n",
       "      <td>0</td>\n",
       "      <td>0</td>\n",
       "      <td>0</td>\n",
       "      <td>0</td>\n",
       "      <td>0</td>\n",
       "      <td>0</td>\n",
       "      <td>0</td>\n",
       "      <td>0</td>\n",
       "    </tr>\n",
       "    <tr>\n",
       "      <th>2</th>\n",
       "      <td>3.0</td>\n",
       "      <td>2.0</td>\n",
       "      <td>150.0</td>\n",
       "      <td>1750.0</td>\n",
       "      <td>3</td>\n",
       "      <td>8571.428571</td>\n",
       "      <td>1</td>\n",
       "      <td>0</td>\n",
       "      <td>0</td>\n",
       "      <td>1</td>\n",
       "      <td>0</td>\n",
       "      <td>0</td>\n",
       "      <td>0</td>\n",
       "      <td>0</td>\n",
       "      <td>0</td>\n",
       "      <td>0</td>\n",
       "      <td>0</td>\n",
       "      <td>0</td>\n",
       "      <td>0</td>\n",
       "      <td>0</td>\n",
       "      <td>0</td>\n",
       "      <td>0</td>\n",
       "      <td>0</td>\n",
       "      <td>0</td>\n",
       "      <td>0</td>\n",
       "      <td>0</td>\n",
       "      <td>0</td>\n",
       "      <td>0</td>\n",
       "      <td>0</td>\n",
       "      <td>0</td>\n",
       "      <td>0</td>\n",
       "      <td>0</td>\n",
       "      <td>0</td>\n",
       "      <td>0</td>\n",
       "      <td>0</td>\n",
       "      <td>0</td>\n",
       "      <td>0</td>\n",
       "      <td>0</td>\n",
       "      <td>0</td>\n",
       "      <td>0</td>\n",
       "      <td>0</td>\n",
       "      <td>0</td>\n",
       "      <td>0</td>\n",
       "      <td>0</td>\n",
       "      <td>0</td>\n",
       "      <td>0</td>\n",
       "      <td>0</td>\n",
       "      <td>0</td>\n",
       "      <td>0</td>\n",
       "      <td>0</td>\n",
       "      <td>0</td>\n",
       "      <td>0</td>\n",
       "      <td>0</td>\n",
       "      <td>0</td>\n",
       "      <td>0</td>\n",
       "      <td>0</td>\n",
       "      <td>0</td>\n",
       "      <td>0</td>\n",
       "      <td>0</td>\n",
       "      <td>0</td>\n",
       "      <td>0</td>\n",
       "      <td>0</td>\n",
       "      <td>0</td>\n",
       "      <td>0</td>\n",
       "      <td>0</td>\n",
       "      <td>0</td>\n",
       "      <td>0</td>\n",
       "      <td>0</td>\n",
       "      <td>0</td>\n",
       "      <td>0</td>\n",
       "      <td>0</td>\n",
       "      <td>0</td>\n",
       "      <td>0</td>\n",
       "      <td>0</td>\n",
       "      <td>0</td>\n",
       "      <td>0</td>\n",
       "      <td>0</td>\n",
       "      <td>0</td>\n",
       "      <td>0</td>\n",
       "      <td>0</td>\n",
       "      <td>0</td>\n",
       "      <td>0</td>\n",
       "      <td>0</td>\n",
       "      <td>0</td>\n",
       "      <td>0</td>\n",
       "      <td>0</td>\n",
       "      <td>0</td>\n",
       "      <td>0</td>\n",
       "      <td>0</td>\n",
       "      <td>0</td>\n",
       "      <td>0</td>\n",
       "      <td>0</td>\n",
       "      <td>0</td>\n",
       "      <td>0</td>\n",
       "      <td>0</td>\n",
       "      <td>0</td>\n",
       "      <td>0</td>\n",
       "      <td>0</td>\n",
       "      <td>0</td>\n",
       "      <td>0</td>\n",
       "      <td>0</td>\n",
       "      <td>0</td>\n",
       "      <td>0</td>\n",
       "      <td>0</td>\n",
       "      <td>0</td>\n",
       "      <td>0</td>\n",
       "      <td>0</td>\n",
       "      <td>0</td>\n",
       "    </tr>\n",
       "    <tr>\n",
       "      <th>3</th>\n",
       "      <td>2.0</td>\n",
       "      <td>2.0</td>\n",
       "      <td>40.0</td>\n",
       "      <td>1250.0</td>\n",
       "      <td>2</td>\n",
       "      <td>3200.000000</td>\n",
       "      <td>1</td>\n",
       "      <td>0</td>\n",
       "      <td>0</td>\n",
       "      <td>1</td>\n",
       "      <td>0</td>\n",
       "      <td>0</td>\n",
       "      <td>0</td>\n",
       "      <td>0</td>\n",
       "      <td>0</td>\n",
       "      <td>0</td>\n",
       "      <td>0</td>\n",
       "      <td>0</td>\n",
       "      <td>0</td>\n",
       "      <td>0</td>\n",
       "      <td>0</td>\n",
       "      <td>0</td>\n",
       "      <td>0</td>\n",
       "      <td>0</td>\n",
       "      <td>0</td>\n",
       "      <td>0</td>\n",
       "      <td>0</td>\n",
       "      <td>0</td>\n",
       "      <td>0</td>\n",
       "      <td>0</td>\n",
       "      <td>0</td>\n",
       "      <td>0</td>\n",
       "      <td>0</td>\n",
       "      <td>0</td>\n",
       "      <td>0</td>\n",
       "      <td>0</td>\n",
       "      <td>0</td>\n",
       "      <td>0</td>\n",
       "      <td>0</td>\n",
       "      <td>0</td>\n",
       "      <td>0</td>\n",
       "      <td>0</td>\n",
       "      <td>0</td>\n",
       "      <td>0</td>\n",
       "      <td>0</td>\n",
       "      <td>0</td>\n",
       "      <td>0</td>\n",
       "      <td>0</td>\n",
       "      <td>0</td>\n",
       "      <td>0</td>\n",
       "      <td>0</td>\n",
       "      <td>0</td>\n",
       "      <td>0</td>\n",
       "      <td>0</td>\n",
       "      <td>0</td>\n",
       "      <td>0</td>\n",
       "      <td>0</td>\n",
       "      <td>0</td>\n",
       "      <td>0</td>\n",
       "      <td>0</td>\n",
       "      <td>0</td>\n",
       "      <td>0</td>\n",
       "      <td>0</td>\n",
       "      <td>0</td>\n",
       "      <td>0</td>\n",
       "      <td>0</td>\n",
       "      <td>0</td>\n",
       "      <td>0</td>\n",
       "      <td>0</td>\n",
       "      <td>0</td>\n",
       "      <td>0</td>\n",
       "      <td>0</td>\n",
       "      <td>0</td>\n",
       "      <td>0</td>\n",
       "      <td>0</td>\n",
       "      <td>0</td>\n",
       "      <td>0</td>\n",
       "      <td>0</td>\n",
       "      <td>0</td>\n",
       "      <td>0</td>\n",
       "      <td>0</td>\n",
       "      <td>0</td>\n",
       "      <td>0</td>\n",
       "      <td>0</td>\n",
       "      <td>0</td>\n",
       "      <td>0</td>\n",
       "      <td>0</td>\n",
       "      <td>0</td>\n",
       "      <td>0</td>\n",
       "      <td>0</td>\n",
       "      <td>0</td>\n",
       "      <td>0</td>\n",
       "      <td>0</td>\n",
       "      <td>0</td>\n",
       "      <td>0</td>\n",
       "      <td>0</td>\n",
       "      <td>0</td>\n",
       "      <td>0</td>\n",
       "      <td>0</td>\n",
       "      <td>0</td>\n",
       "      <td>0</td>\n",
       "      <td>0</td>\n",
       "      <td>0</td>\n",
       "      <td>0</td>\n",
       "      <td>0</td>\n",
       "      <td>0</td>\n",
       "      <td>0</td>\n",
       "      <td>0</td>\n",
       "    </tr>\n",
       "    <tr>\n",
       "      <th>4</th>\n",
       "      <td>2.0</td>\n",
       "      <td>2.0</td>\n",
       "      <td>83.0</td>\n",
       "      <td>1200.0</td>\n",
       "      <td>2</td>\n",
       "      <td>6916.666667</td>\n",
       "      <td>0</td>\n",
       "      <td>0</td>\n",
       "      <td>1</td>\n",
       "      <td>1</td>\n",
       "      <td>0</td>\n",
       "      <td>0</td>\n",
       "      <td>0</td>\n",
       "      <td>0</td>\n",
       "      <td>0</td>\n",
       "      <td>0</td>\n",
       "      <td>0</td>\n",
       "      <td>0</td>\n",
       "      <td>0</td>\n",
       "      <td>0</td>\n",
       "      <td>0</td>\n",
       "      <td>0</td>\n",
       "      <td>0</td>\n",
       "      <td>0</td>\n",
       "      <td>0</td>\n",
       "      <td>0</td>\n",
       "      <td>0</td>\n",
       "      <td>0</td>\n",
       "      <td>0</td>\n",
       "      <td>0</td>\n",
       "      <td>0</td>\n",
       "      <td>0</td>\n",
       "      <td>0</td>\n",
       "      <td>0</td>\n",
       "      <td>0</td>\n",
       "      <td>0</td>\n",
       "      <td>0</td>\n",
       "      <td>0</td>\n",
       "      <td>0</td>\n",
       "      <td>0</td>\n",
       "      <td>0</td>\n",
       "      <td>0</td>\n",
       "      <td>0</td>\n",
       "      <td>0</td>\n",
       "      <td>0</td>\n",
       "      <td>0</td>\n",
       "      <td>0</td>\n",
       "      <td>0</td>\n",
       "      <td>0</td>\n",
       "      <td>0</td>\n",
       "      <td>0</td>\n",
       "      <td>0</td>\n",
       "      <td>0</td>\n",
       "      <td>0</td>\n",
       "      <td>0</td>\n",
       "      <td>0</td>\n",
       "      <td>0</td>\n",
       "      <td>0</td>\n",
       "      <td>0</td>\n",
       "      <td>0</td>\n",
       "      <td>0</td>\n",
       "      <td>0</td>\n",
       "      <td>0</td>\n",
       "      <td>0</td>\n",
       "      <td>0</td>\n",
       "      <td>0</td>\n",
       "      <td>0</td>\n",
       "      <td>0</td>\n",
       "      <td>0</td>\n",
       "      <td>0</td>\n",
       "      <td>0</td>\n",
       "      <td>0</td>\n",
       "      <td>0</td>\n",
       "      <td>0</td>\n",
       "      <td>0</td>\n",
       "      <td>0</td>\n",
       "      <td>0</td>\n",
       "      <td>0</td>\n",
       "      <td>0</td>\n",
       "      <td>0</td>\n",
       "      <td>0</td>\n",
       "      <td>0</td>\n",
       "      <td>0</td>\n",
       "      <td>0</td>\n",
       "      <td>0</td>\n",
       "      <td>0</td>\n",
       "      <td>0</td>\n",
       "      <td>0</td>\n",
       "      <td>0</td>\n",
       "      <td>0</td>\n",
       "      <td>0</td>\n",
       "      <td>0</td>\n",
       "      <td>0</td>\n",
       "      <td>0</td>\n",
       "      <td>0</td>\n",
       "      <td>0</td>\n",
       "      <td>0</td>\n",
       "      <td>0</td>\n",
       "      <td>0</td>\n",
       "      <td>0</td>\n",
       "      <td>0</td>\n",
       "      <td>0</td>\n",
       "      <td>0</td>\n",
       "      <td>0</td>\n",
       "      <td>0</td>\n",
       "      <td>0</td>\n",
       "      <td>0</td>\n",
       "      <td>0</td>\n",
       "    </tr>\n",
       "  </tbody>\n",
       "</table>\n",
       "</div>"
      ],
      "text/plain": [
       "   bath  balcony  price  total_sqft_int  bhk  price_per_sqft  \\\n",
       "0   3.0      2.0  150.0          1672.0    3     8971.291866   \n",
       "1   3.0      3.0  149.0          1750.0    3     8514.285714   \n",
       "2   3.0      2.0  150.0          1750.0    3     8571.428571   \n",
       "3   2.0      2.0   40.0          1250.0    2     3200.000000   \n",
       "4   2.0      2.0   83.0          1200.0    2     6916.666667   \n",
       "\n",
       "   area_typeSuper built-up  Area  area_typeBuilt-up  Area  \\\n",
       "0                              1                        0   \n",
       "1                              0                        1   \n",
       "2                              1                        0   \n",
       "3                              1                        0   \n",
       "4                              0                        0   \n",
       "\n",
       "   area_typePlot  Area  availability_Ready To Move  location_Whitefield  \\\n",
       "0                    0                           1                    0   \n",
       "1                    0                           1                    0   \n",
       "2                    0                           1                    0   \n",
       "3                    0                           1                    0   \n",
       "4                    1                           1                    0   \n",
       "\n",
       "   location_Sarjapur  Road  location_Electronic City  location_Marathahalli  \\\n",
       "0                        0                         0                      0   \n",
       "1                        0                         0                      0   \n",
       "2                        0                         0                      0   \n",
       "3                        0                         0                      0   \n",
       "4                        0                         0                      0   \n",
       "\n",
       "   location_Raja Rajeshwari Nagar  location_Haralur Road  \\\n",
       "0                               0                      0   \n",
       "1                               0                      0   \n",
       "2                               0                      0   \n",
       "3                               0                      0   \n",
       "4                               0                      0   \n",
       "\n",
       "   location_Hennur Road  location_Bannerghatta Road  location_Uttarahalli  \\\n",
       "0                     0                           0                     0   \n",
       "1                     0                           0                     0   \n",
       "2                     0                           0                     0   \n",
       "3                     0                           0                     0   \n",
       "4                     0                           0                     0   \n",
       "\n",
       "   location_Thanisandra  location_Electronic City Phase II  location_Hebbal  \\\n",
       "0                     0                                  0                0   \n",
       "1                     0                                  0                0   \n",
       "2                     0                                  0                0   \n",
       "3                     0                                  0                0   \n",
       "4                     0                                  0                0   \n",
       "\n",
       "   location_Yelahanka  location_7th Phase JP Nagar  location_Kanakpura Road  \\\n",
       "0                   0                            0                        0   \n",
       "1                   0                            0                        0   \n",
       "2                   0                            0                        0   \n",
       "3                   0                            0                        0   \n",
       "4                   0                            0                        0   \n",
       "\n",
       "   location_KR Puram  location_Sarjapur  location_Rajaji Nagar  \\\n",
       "0                  0                  0                      0   \n",
       "1                  0                  0                      0   \n",
       "2                  0                  0                      0   \n",
       "3                  0                  0                      0   \n",
       "4                  0                  0                      0   \n",
       "\n",
       "   location_Bellandur  location_Kasavanhalli  location_Begur Road  \\\n",
       "0                   0                      0                    0   \n",
       "1                   0                      0                    0   \n",
       "2                   0                      0                    0   \n",
       "3                   0                      0                    0   \n",
       "4                   0                      0                    0   \n",
       "\n",
       "   location_Banashankari  location_Kothanur  location_Hormavu  \\\n",
       "0                      0                  0                 0   \n",
       "1                      0                  0                 0   \n",
       "2                      0                  0                 0   \n",
       "3                      0                  0                 0   \n",
       "4                      0                  0                 0   \n",
       "\n",
       "   location_Harlur  location_Akshaya Nagar  location_Electronics City Phase 1  \\\n",
       "0                0                       0                                  0   \n",
       "1                0                       0                                  0   \n",
       "2                0                       0                                  0   \n",
       "3                0                       0                                  0   \n",
       "4                0                       0                                  0   \n",
       "\n",
       "   location_Jakkur  location_Varthur  location_HSR Layout  location_Hennur  \\\n",
       "0                0                 0                    0                0   \n",
       "1                0                 0                    0                0   \n",
       "2                0                 0                    0                0   \n",
       "3                0                 0                    0                0   \n",
       "4                0                 0                    0                0   \n",
       "\n",
       "   location_Ramamurthy Nagar  location_Chandapura  location_Koramangala  \\\n",
       "0                          0                    0                     0   \n",
       "1                          0                    0                     0   \n",
       "2                          0                    0                     0   \n",
       "3                          0                    0                     0   \n",
       "4                          0                    0                     0   \n",
       "\n",
       "   location_Kaggadasapura  location_Kundalahalli  location_Ramagondanahalli  \\\n",
       "0                       0                      0                          0   \n",
       "1                       0                      0                          0   \n",
       "2                       0                      0                          0   \n",
       "3                       0                      0                          0   \n",
       "4                       0                      0                          0   \n",
       "\n",
       "   location_Budigere  location_Hulimavu  location_Hoodi  \\\n",
       "0                  0                  0               0   \n",
       "1                  0                  0               0   \n",
       "2                  0                  0               0   \n",
       "3                  0                  0               0   \n",
       "4                  0                  0               0   \n",
       "\n",
       "   location_Malleshwaram  location_Hegde Nagar  location_Yeshwanthpur  \\\n",
       "0                      0                     0                      0   \n",
       "1                      0                     0                      0   \n",
       "2                      0                     0                      0   \n",
       "3                      0                     0                      0   \n",
       "4                      0                     0                      0   \n",
       "\n",
       "   location_Gottigere  location_8th Phase JP Nagar  location_JP Nagar  \\\n",
       "0                   0                            0                  0   \n",
       "1                   0                            0                  0   \n",
       "2                   0                            0                  0   \n",
       "3                   0                            0                  0   \n",
       "4                   0                            0                  0   \n",
       "\n",
       "   location_Channasandra  location_Bisuvanahalli  location_Vittasandra  \\\n",
       "0                      0                       0                     0   \n",
       "1                      0                       0                     0   \n",
       "2                      0                       0                     0   \n",
       "3                      0                       0                     0   \n",
       "4                      0                       0                     0   \n",
       "\n",
       "   location_Indira Nagar  location_Old Airport Road  location_Sahakara Nagar  \\\n",
       "0                      0                          0                        0   \n",
       "1                      0                          0                        0   \n",
       "2                      0                          0                        0   \n",
       "3                      0                          0                        0   \n",
       "4                      0                          0                        0   \n",
       "\n",
       "   location_Brookefield  location_Kengeri  location_Hosa Road  \\\n",
       "0                     0                 0                   0   \n",
       "1                     0                 0                   0   \n",
       "2                     0                 0                   0   \n",
       "3                     0                 0                   0   \n",
       "4                     0                 0                   0   \n",
       "\n",
       "   location_Vijayanagar  location_Balagere  location_Green Glen Layout  \\\n",
       "0                     0                  0                           0   \n",
       "1                     0                  0                           0   \n",
       "2                     0                  0                           0   \n",
       "3                     0                  0                           0   \n",
       "4                     0                  0                           0   \n",
       "\n",
       "   location_Bommasandra  location_Rachenahalli  location_Panathur  \\\n",
       "0                     0                      0                  0   \n",
       "1                     0                      0                  0   \n",
       "2                     0                      0                  0   \n",
       "3                     0                      0                  0   \n",
       "4                     0                      0                  0   \n",
       "\n",
       "   location_Old Madras Road  location_Kudlu Gate  location_Mysore Road  \\\n",
       "0                         0                    0                     0   \n",
       "1                         0                    0                     0   \n",
       "2                         0                    0                     0   \n",
       "3                         0                    0                     0   \n",
       "4                         0                    0                     0   \n",
       "\n",
       "   location_Thigalarapalya  location_Talaghattapura  location_Kadugodi  \\\n",
       "0                        0                        0                  0   \n",
       "1                        0                        0                  0   \n",
       "2                        0                        0                  0   \n",
       "3                        0                        0                  0   \n",
       "4                        0                        0                  0   \n",
       "\n",
       "   location_Ambedkar Nagar  location_Jigani  location_Yelahanka New Town  \\\n",
       "0                        0                0                            0   \n",
       "1                        0                0                            0   \n",
       "2                        0                0                            0   \n",
       "3                        0                0                            0   \n",
       "4                        0                0                            0   \n",
       "\n",
       "   location_Frazer Town  location_Kanakapura  location_Attibele  \\\n",
       "0                     0                    0                  0   \n",
       "1                     0                    0                  0   \n",
       "2                     0                    0                  0   \n",
       "3                     0                    0                  0   \n",
       "4                     0                    0                  0   \n",
       "\n",
       "   location_Dodda Nekkundi  location_Devanahalli  \\\n",
       "0                        0                     0   \n",
       "1                        0                     0   \n",
       "2                        0                     0   \n",
       "3                        0                     0   \n",
       "4                        0                     0   \n",
       "\n",
       "   location_Lakshminarayana Pura  location_Nagarbhavi  \\\n",
       "0                              0                    0   \n",
       "1                              0                    0   \n",
       "2                              0                    0   \n",
       "3                              0                    0   \n",
       "4                              0                    0   \n",
       "\n",
       "   location_5th Phase JP Nagar  location_TC Palaya  location_Ananth Nagar  \\\n",
       "0                            0                   0                      0   \n",
       "1                            0                   0                      0   \n",
       "2                            0                   0                      0   \n",
       "3                            0                   0                      0   \n",
       "4                            0                   0                      0   \n",
       "\n",
       "   location_Anekal  location_Kudlu  location_CV Raman Nagar  \\\n",
       "0                0               0                        0   \n",
       "1                0               0                        0   \n",
       "2                0               0                        0   \n",
       "3                0               0                        0   \n",
       "4                0               0                        0   \n",
       "\n",
       "   location_Jalahalli  location_Kengeri Satellite Town  location_Doddathoguru  \\\n",
       "0                   0                                0                      0   \n",
       "1                   0                                0                      0   \n",
       "2                   0                                0                      0   \n",
       "3                   0                                0                      0   \n",
       "4                   0                                0                      0   \n",
       "\n",
       "   location_Bhoganhalli  location_Subramanyapura  location_Kalena Agrahara  \\\n",
       "0                     0                        0                         0   \n",
       "1                     0                        0                         0   \n",
       "2                     0                        0                         0   \n",
       "3                     0                        0                         0   \n",
       "4                     0                        0                         0   \n",
       "\n",
       "   location_Horamavu Agara  location_Vidyaranyapura  location_Hosur Road  \\\n",
       "0                        0                        0                    0   \n",
       "1                        0                        0                    0   \n",
       "2                        0                        0                    0   \n",
       "3                        0                        0                    0   \n",
       "4                        0                        0                    0   \n",
       "\n",
       "   location_Hebbal Kempapura  location_BTM 2nd Stage  location_Domlur  \\\n",
       "0                          0                       0                0   \n",
       "1                          0                       0                0   \n",
       "2                          0                       0                0   \n",
       "3                          0                       0                0   \n",
       "4                          0                       0                0   \n",
       "\n",
       "   location_Horamavu Banaswadi  location_Tumkur Road  location_Mahadevpura  \n",
       "0                            0                     0                     0  \n",
       "1                            0                     0                     0  \n",
       "2                            0                     0                     0  \n",
       "3                            0                     0                     0  \n",
       "4                            0                     0                     0  "
      ]
     },
     "execution_count": 24,
     "metadata": {},
     "output_type": "execute_result"
    }
   ],
   "source": [
    "df.head()"
   ]
  },
  {
   "cell_type": "code",
   "execution_count": 25,
   "metadata": {
    "colab": {
     "base_uri": "https://localhost:8080/",
     "height": 34
    },
    "colab_type": "code",
    "executionInfo": {
     "elapsed": 3778,
     "status": "ok",
     "timestamp": 1593078489655,
     "user": {
      "displayName": "indian ai production",
      "photoUrl": "",
      "userId": "05336710603640792650"
     },
     "user_tz": -330
    },
    "id": "y7UEhvYVSK4J",
    "outputId": "deeea3d6-db97-4f54-89eb-aa75064f7a59"
   },
   "outputs": [
    {
     "data": {
      "text/plain": [
       "(7120, 108)"
      ]
     },
     "execution_count": 25,
     "metadata": {},
     "output_type": "execute_result"
    }
   ],
   "source": [
    "df.shape"
   ]
  },
  {
   "cell_type": "markdown",
   "metadata": {
    "colab_type": "text",
    "id": "axowdsatcJaQ"
   },
   "source": [
    "## Split Dataset in train and test"
   ]
  },
  {
   "cell_type": "code",
   "execution_count": 26,
   "metadata": {
    "colab": {
     "base_uri": "https://localhost:8080/",
     "height": 51
    },
    "colab_type": "code",
    "executionInfo": {
     "elapsed": 3736,
     "status": "ok",
     "timestamp": 1593078489656,
     "user": {
      "displayName": "indian ai production",
      "photoUrl": "",
      "userId": "05336710603640792650"
     },
     "user_tz": -330
    },
    "id": "PU_DeM90b7As",
    "outputId": "bab4699a-6418-4af5-bfbe-69424bb17b8b"
   },
   "outputs": [
    {
     "name": "stdout",
     "output_type": "stream",
     "text": [
      "Shape of X =  (7120, 107)\n",
      "Shape of y =  (7120,)\n"
     ]
    }
   ],
   "source": [
    "X = df.drop(\"price\", axis=1)\n",
    "y = df['price']\n",
    "print('Shape of X = ', X.shape)\n",
    "print('Shape of y = ', y.shape)"
   ]
  },
  {
   "cell_type": "code",
   "execution_count": 27,
   "metadata": {
    "colab": {
     "base_uri": "https://localhost:8080/",
     "height": 85
    },
    "colab_type": "code",
    "executionInfo": {
     "elapsed": 3693,
     "status": "ok",
     "timestamp": 1593078489657,
     "user": {
      "displayName": "indian ai production",
      "photoUrl": "",
      "userId": "05336710603640792650"
     },
     "user_tz": -330
    },
    "id": "aNVLPL-rcNwa",
    "outputId": "b24989dd-d514-407f-eae1-4f982084621a"
   },
   "outputs": [
    {
     "name": "stdout",
     "output_type": "stream",
     "text": [
      "Shape of X_train =  (5696, 107)\n",
      "Shape of y_train =  (5696,)\n",
      "Shape of X_test =  (1424, 107)\n",
      "Shape of y_test =  (1424,)\n"
     ]
    }
   ],
   "source": [
    "from sklearn.model_selection import train_test_split\n",
    "X_train, X_test, y_train, y_test = train_test_split(X, y, test_size = 0.2, random_state = 51)\n",
    "print('Shape of X_train = ', X_train.shape)\n",
    "print('Shape of y_train = ', y_train.shape)\n",
    "print('Shape of X_test = ', X_test.shape)\n",
    "print('Shape of y_test = ', y_test.shape)"
   ]
  },
  {
   "cell_type": "markdown",
   "metadata": {
    "colab_type": "text",
    "id": "k65LC4_qcYpm"
   },
   "source": [
    "## Feature Scaling"
   ]
  },
  {
   "cell_type": "code",
   "execution_count": 28,
   "metadata": {
    "colab": {},
    "colab_type": "code",
    "executionInfo": {
     "elapsed": 4112,
     "status": "ok",
     "timestamp": 1593078490090,
     "user": {
      "displayName": "indian ai production",
      "photoUrl": "",
      "userId": "05336710603640792650"
     },
     "user_tz": -330
    },
    "id": "D1BCc8gAcUi6"
   },
   "outputs": [],
   "source": [
    "from sklearn.preprocessing import StandardScaler\n",
    "sc = StandardScaler()\n",
    "sc.fit(X_train)\n",
    "X_train= sc.transform(X_train)\n",
    "X_test = sc.transform(X_test)"
   ]
  },
  {
   "cell_type": "markdown",
   "metadata": {
    "colab_type": "text",
    "id": "Oh43OeUnfZAq"
   },
   "source": [
    "## Machine Learning Model Training"
   ]
  },
  {
   "cell_type": "markdown",
   "metadata": {
    "colab_type": "text",
    "id": "d9-YKvESfcmd"
   },
   "source": [
    "## Linear Regression"
   ]
  },
  {
   "cell_type": "code",
   "execution_count": 29,
   "metadata": {
    "colab": {},
    "colab_type": "code",
    "executionInfo": {
     "elapsed": 4105,
     "status": "ok",
     "timestamp": 1593078490092,
     "user": {
      "displayName": "indian ai production",
      "photoUrl": "",
      "userId": "05336710603640792650"
     },
     "user_tz": -330
    },
    "id": "GfPL9vJLcfXr"
   },
   "outputs": [],
   "source": [
    "from sklearn.linear_model import LinearRegression\n",
    "from sklearn.linear_model import Lasso\n",
    "from sklearn.linear_model import Ridge\n",
    "from sklearn.metrics import mean_squared_error\n",
    "lr = LinearRegression()\n",
    "lr_lasso = Lasso()\n",
    "lr_ridge = Ridge()"
   ]
  },
  {
   "cell_type": "code",
   "execution_count": 30,
   "metadata": {
    "colab": {},
    "colab_type": "code",
    "executionInfo": {
     "elapsed": 4100,
     "status": "ok",
     "timestamp": 1593078490094,
     "user": {
      "displayName": "indian ai production",
      "photoUrl": "",
      "userId": "05336710603640792650"
     },
     "user_tz": -330
    },
    "id": "pG9byhg5YWGR"
   },
   "outputs": [],
   "source": [
    "def rmse(y_test, y_pred):\n",
    "  return np.sqrt(mean_squared_error(y_test, y_pred))"
   ]
  },
  {
   "cell_type": "code",
   "execution_count": 31,
   "metadata": {
    "colab": {
     "base_uri": "https://localhost:8080/",
     "height": 34
    },
    "colab_type": "code",
    "executionInfo": {
     "elapsed": 4027,
     "status": "ok",
     "timestamp": 1593078490095,
     "user": {
      "displayName": "indian ai production",
      "photoUrl": "",
      "userId": "05336710603640792650"
     },
     "user_tz": -330
    },
    "id": "WYm8ArSoff1p",
    "outputId": "b315cac3-9809-467c-87f6-fb54f1e5918c"
   },
   "outputs": [
    {
     "data": {
      "text/plain": [
       "(0.7903837092682255, 64.898435311056)"
      ]
     },
     "execution_count": 31,
     "metadata": {},
     "output_type": "execute_result"
    }
   ],
   "source": [
    "lr.fit(X_train, y_train)\n",
    "lr_score = lr.score(X_test, y_test) # with all num var 0.7842744111909903\n",
    "lr_rmse = rmse(y_test, lr.predict(X_test))\n",
    "lr_score, lr_rmse"
   ]
  },
  {
   "cell_type": "code",
   "execution_count": 32,
   "metadata": {
    "colab": {
     "base_uri": "https://localhost:8080/",
     "height": 34
    },
    "colab_type": "code",
    "executionInfo": {
     "elapsed": 3988,
     "status": "ok",
     "timestamp": 1593078490096,
     "user": {
      "displayName": "indian ai production",
      "photoUrl": "",
      "userId": "05336710603640792650"
     },
     "user_tz": -330
    },
    "id": "sEhTsgE6fnXp",
    "outputId": "6170272d-4954-4045-e93f-49339b531559"
   },
   "outputs": [
    {
     "data": {
      "text/plain": [
       "(0.8036372973672522, 62.813242204691534)"
      ]
     },
     "execution_count": 32,
     "metadata": {},
     "output_type": "execute_result"
    }
   ],
   "source": [
    "# Lasso \n",
    "lr_lasso.fit(X_train, y_train)\n",
    "lr_lasso_score=lr_lasso.score(X_test, y_test) # with balcony 0.5162364637824872\n",
    "lr_lasso_rmse = rmse(y_test, lr_lasso.predict(X_test))\n",
    "lr_lasso_score, lr_lasso_rmse"
   ]
  },
  {
   "cell_type": "markdown",
   "metadata": {},
   "source": [
    "####  ridge regression"
   ]
  },
  {
   "cell_type": "code",
   "execution_count": 33,
   "metadata": {
    "tags": []
   },
   "outputs": [
    {
     "data": {
      "text/plain": [
       "(0.7905686374336629, 64.869801571005)"
      ]
     },
     "execution_count": 33,
     "metadata": {},
     "output_type": "execute_result"
    }
   ],
   "source": [
    "lr_ridge.fit(X_train, y_train)\n",
    "\n",
    "# Calculate R-squared and RMSE for Ridge regression\n",
    "lr_ridge_score = lr_ridge.score(X_test, y_test)\n",
    "lr_ridge_rmse = rmse(y_test, lr_ridge.predict(X_test))\n",
    "\n",
    "# Output results\n",
    "lr_ridge_score, lr_ridge_rmse"
   ]
  },
  {
   "cell_type": "markdown",
   "metadata": {
    "colab_type": "text",
    "id": "73sB16uxfwRm"
   },
   "source": [
    "## Support Vector Machine"
   ]
  },
  {
   "cell_type": "code",
   "execution_count": 34,
   "metadata": {
    "colab": {
     "base_uri": "https://localhost:8080/",
     "height": 34
    },
    "colab_type": "code",
    "executionInfo": {
     "elapsed": 15003,
     "status": "ok",
     "timestamp": 1593078501154,
     "user": {
      "displayName": "indian ai production",
      "photoUrl": "",
      "userId": "05336710603640792650"
     },
     "user_tz": -330
    },
    "id": "aep38HxxfsbA",
    "outputId": "ecb5b52f-8743-46a6-ecfb-b69cd5e9d06f"
   },
   "outputs": [
    {
     "data": {
      "text/plain": [
       "(0.2063803584082815, 126.27806378079056)"
      ]
     },
     "execution_count": 34,
     "metadata": {},
     "output_type": "execute_result"
    }
   ],
   "source": [
    "from sklearn.svm import SVR\n",
    "svr = SVR()\n",
    "svr.fit(X_train,y_train)\n",
    "svr_score=svr.score(X_test,y_test) # with 0.2630802200711362\n",
    "svr_rmse = rmse(y_test, svr.predict(X_test))\n",
    "svr_score, svr_rmse"
   ]
  },
  {
   "cell_type": "markdown",
   "metadata": {
    "colab_type": "text",
    "id": "w9-nexcsf5G3"
   },
   "source": [
    "## Random Forest Regressor"
   ]
  },
  {
   "cell_type": "code",
   "execution_count": 35,
   "metadata": {
    "colab": {
     "base_uri": "https://localhost:8080/",
     "height": 34
    },
    "colab_type": "code",
    "executionInfo": {
     "elapsed": 18171,
     "status": "ok",
     "timestamp": 1593078504362,
     "user": {
      "displayName": "indian ai production",
      "photoUrl": "",
      "userId": "05336710603640792650"
     },
     "user_tz": -330
    },
    "id": "ArlNrxFJf1ey",
    "outputId": "90487329-8ad6-4625-a01e-f915975ba241"
   },
   "outputs": [
    {
     "data": {
      "text/plain": [
       "(0.8978308103853656, 45.30870867154417)"
      ]
     },
     "execution_count": 35,
     "metadata": {},
     "output_type": "execute_result"
    }
   ],
   "source": [
    "from sklearn.ensemble import RandomForestRegressor\n",
    "rfr = RandomForestRegressor()\n",
    "rfr.fit(X_train,y_train)\n",
    "rfr_score=rfr.score(X_test,y_test) # with 0.8863376025408044\n",
    "rfr_rmse = rmse(y_test, rfr.predict(X_test))\n",
    "rfr_score, rfr_rmse"
   ]
  },
  {
   "cell_type": "markdown",
   "metadata": {
    "colab_type": "text",
    "id": "JjxIDyROgFj4"
   },
   "source": [
    "## XGBoost"
   ]
  },
  {
   "cell_type": "code",
   "execution_count": 36,
   "metadata": {
    "colab": {
     "base_uri": "https://localhost:8080/",
     "height": 51
    },
    "colab_type": "code",
    "executionInfo": {
     "elapsed": 19264,
     "status": "ok",
     "timestamp": 1593078505494,
     "user": {
      "displayName": "indian ai production",
      "photoUrl": "",
      "userId": "05336710603640792650"
     },
     "user_tz": -330
    },
    "id": "GefSOPbqf-4d",
    "outputId": "6f6f8cfe-28fa-452e-aebb-468109b3944c"
   },
   "outputs": [
    {
     "data": {
      "text/plain": [
       "(0.8811268741365585, 48.87238707845022)"
      ]
     },
     "execution_count": 36,
     "metadata": {},
     "output_type": "execute_result"
    }
   ],
   "source": [
    "import xgboost\n",
    "xgb_reg = xgboost.XGBRegressor()\n",
    "xgb_reg.fit(X_train,y_train)\n",
    "xgb_reg_score=xgb_reg.score(X_test,y_test) # with 0.8838865742273464\n",
    "xgb_reg_rmse = rmse(y_test, xgb_reg.predict(X_test))\n",
    "xgb_reg_score, xgb_reg_rmse"
   ]
  },
  {
   "cell_type": "markdown",
   "metadata": {
    "tags": []
   },
   "source": [
    "## Gradient Boosting"
   ]
  },
  {
   "cell_type": "code",
   "execution_count": 37,
   "metadata": {
    "tags": []
   },
   "outputs": [
    {
     "name": "stdout",
     "output_type": "stream",
     "text": [
      "Gradient Boosting Regressor Score: 0.891080270966908\n",
      "Gradient Boosting Regressor RMSE: 46.781590868134224\n"
     ]
    }
   ],
   "source": [
    "from sklearn.ensemble import GradientBoostingRegressor\n",
    "from sklearn.metrics import mean_squared_error\n",
    "\n",
    "# Initialize the Gradient Boosting Regressor\n",
    "gb_reg = GradientBoostingRegressor()\n",
    "\n",
    "# Train the model\n",
    "gb_reg.fit(X_train, y_train)\n",
    "\n",
    "# Evaluate the model\n",
    "gb_reg_score = gb_reg.score(X_test, y_test)\n",
    "gb_reg_rmse = mean_squared_error(y_test, gb_reg.predict(X_test), squared=False)\n",
    "\n",
    "print(\"Gradient Boosting Regressor Score:\", gb_reg_score)\n",
    "print(\"Gradient Boosting Regressor RMSE:\", gb_reg_rmse)\n"
   ]
  },
  {
   "cell_type": "code",
   "execution_count": null,
   "metadata": {},
   "outputs": [],
   "source": []
  },
  {
   "cell_type": "code",
   "execution_count": 38,
   "metadata": {
    "colab": {
     "base_uri": "https://localhost:8080/",
     "height": 119
    },
    "colab_type": "code",
    "executionInfo": {
     "elapsed": 19225,
     "status": "ok",
     "timestamp": 1593078505496,
     "user": {
      "displayName": "indian ai production",
      "photoUrl": "",
      "userId": "05336710603640792650"
     },
     "user_tz": -330
    },
    "id": "SjqSFnK4atAI",
    "outputId": "dcf267cc-98f4-426b-d51d-f2e9d7e324c4"
   },
   "outputs": [
    {
     "name": "stdout",
     "output_type": "stream",
     "text": [
      "                    Model     Score        RMSE\n",
      "0       Linear Regression  0.790384   64.898435\n",
      "1                   Lasso  0.803637   62.813242\n",
      "2  Support Vector Machine  0.206380  126.278064\n",
      "3           Random Forest  0.897831   45.308709\n",
      "4                 XGBoost  0.881127   48.872387\n"
     ]
    }
   ],
   "source": [
    "print(pd.DataFrame([{'Model': 'Linear Regression','Score':lr_score, \"RMSE\":lr_rmse},\n",
    "              {'Model': 'Lasso','Score':lr_lasso_score, \"RMSE\":lr_lasso_rmse},\n",
    "              {'Model': 'Support Vector Machine','Score':svr_score, \"RMSE\":svr_rmse},\n",
    "              {'Model': 'Random Forest','Score':rfr_score, \"RMSE\":rfr_rmse},\n",
    "              {'Model': 'XGBoost','Score':xgb_reg_score, \"RMSE\":xgb_reg_rmse}],\n",
    "             columns=['Model','Score','RMSE']))"
   ]
  },
  {
   "cell_type": "markdown",
   "metadata": {
    "colab_type": "text",
    "id": "wb6hBVBvgSP4"
   },
   "source": [
    "## Cross Validation"
   ]
  },
  {
   "cell_type": "code",
   "execution_count": 50,
   "metadata": {
    "colab": {
     "base_uri": "https://localhost:8080/",
     "height": 34
    },
    "colab_type": "code",
    "executionInfo": {
     "elapsed": 19189,
     "status": "ok",
     "timestamp": 1593078505498,
     "user": {
      "displayName": "indian ai production",
      "photoUrl": "",
      "userId": "05336710603640792650"
     },
     "user_tz": -330
    },
    "id": "9X2-jzL8gJJJ",
    "outputId": "517a17f1-4b0d-45c6-fffa-cc4c94988cd4"
   },
   "outputs": [
    {
     "data": {
      "text/plain": [
       "(array([0.99215108, 0.96912061, 0.99505317, 0.96791025, 0.96841357,\n",
       "        0.98628591, 0.98932835, 0.88337835, 0.98860677, 0.90048394]),\n",
       " 0.9640732001671554)"
      ]
     },
     "execution_count": 50,
     "metadata": {},
     "output_type": "execute_result"
    }
   ],
   "source": [
    "from sklearn.model_selection import KFold,cross_val_score\n",
    "cvs = cross_val_score(xgb_reg, X_train,y_train, cv = 10)\n",
    "cvs, cvs.mean() # 0.9845963377450353)'''"
   ]
  },
  {
   "cell_type": "code",
   "execution_count": 40,
   "metadata": {
    "colab": {
     "base_uri": "https://localhost:8080/",
     "height": 34
    },
    "colab_type": "code",
    "executionInfo": {
     "elapsed": 19157,
     "status": "ok",
     "timestamp": 1593078505499,
     "user": {
      "displayName": "indian ai production",
      "photoUrl": "",
      "userId": "05336710603640792650"
     },
     "user_tz": -330
    },
    "id": "3SRukRf9gWc3",
    "outputId": "f32a045f-04ef-4c2e-ccd2-2dc6aa931b36"
   },
   "outputs": [
    {
     "data": {
      "text/plain": [
       "'cvs_rfr = cross_val_score(rfr, X_train,y_train, cv = 10)\\ncvs_rfr, cvs_rfr.mean() # 0.9652425691235843)'"
      ]
     },
     "execution_count": 40,
     "metadata": {},
     "output_type": "execute_result"
    }
   ],
   "source": [
    "'''cvs_rfr = cross_val_score(rfr, X_train,y_train, cv = 10)\n",
    "cvs_rfr, cvs_rfr.mean() # 0.9652425691235843)'''"
   ]
  },
  {
   "cell_type": "code",
   "execution_count": 41,
   "metadata": {
    "colab": {
     "base_uri": "https://localhost:8080/",
     "height": 68
    },
    "colab_type": "code",
    "executionInfo": {
     "elapsed": 48418,
     "status": "ok",
     "timestamp": 1593078534792,
     "user": {
      "displayName": "indian ai production",
      "photoUrl": "",
      "userId": "05336710603640792650"
     },
     "user_tz": -330
    },
    "id": "fOE4aTNGUyTP",
    "outputId": "d034f0cd-627a-4e8c-d3fc-15807f2bdfac"
   },
   "outputs": [
    {
     "data": {
      "text/plain": [
       "'from sklearn.model_selection import cross_val_score\\ncvs_rfr2 = cross_val_score(RandomForestRegressor(), X_train,y_train, cv = 10)\\ncvs_rfr2, cvs_rfr2.mean() # 0.9652425691235843)'"
      ]
     },
     "execution_count": 41,
     "metadata": {},
     "output_type": "execute_result"
    }
   ],
   "source": [
    "'''from sklearn.model_selection import cross_val_score\n",
    "cvs_rfr2 = cross_val_score(RandomForestRegressor(), X_train,y_train, cv = 10)\n",
    "cvs_rfr2, cvs_rfr2.mean() # 0.9652425691235843)'''"
   ]
  },
  {
   "cell_type": "markdown",
   "metadata": {
    "colab_type": "text",
    "id": "9r5gSFsWgwsF"
   },
   "source": [
    "# Hyper Parmeter Tuning"
   ]
  },
  {
   "cell_type": "code",
   "execution_count": 42,
   "metadata": {
    "cellView": "both",
    "colab": {
     "base_uri": "https://localhost:8080/",
     "height": 54
    },
    "colab_type": "code",
    "executionInfo": {
     "elapsed": 48381,
     "status": "ok",
     "timestamp": 1593078534796,
     "user": {
      "displayName": "indian ai production",
      "photoUrl": "",
      "userId": "05336710603640792650"
     },
     "user_tz": -330
    },
    "id": "Trmslcv4h6ll",
    "outputId": "7385acf6-e182-4c61-e148-53814d028d48"
   },
   "outputs": [
    {
     "data": {
      "text/plain": [
       "\"\\n# Various hyper-parameters to tune\\nxgb1 = XGBRegressor()\\nparameters = {'learning_rate': [0.1,0.03, 0.05, 0.07], #so called `eta` value, # [default=0.3] Analogous to learning rate in GBM\\n              'min_child_weight': [1,3,5], #[default=1] Defines the minimum sum of weights of all observations required in a child.\\n              'max_depth': [4, 6, 8], #[default=6] The maximum depth of a tree,\\n              'gamma':[0,0.1,0.001,0.2], #Gamma specifies the minimum loss reduction required to make a split.\\n              'subsample': [0.7,1,1.5], #Denotes the fraction of observations to be randomly samples for each tree.\\n              'colsample_bytree': [0.7,1,1.5], #Denotes the fraction of columns to be randomly samples for each tree.\\n              'objective':['reg:linear'], #This defines the loss function to be minimized.\\n\\n              'n_estimators': [100,300,500]}\\n\\nxgb_grid = GridSearchCV(xgb1,\\n                        parameters,\\n                        cv = 2,\\n                        n_jobs = -1,\\n                        verbose=True)\\n\\nxgb_grid.fit(X_train, y_train)\\n\\nprint(xgb_grid.best_score_) # 0.9397345161940295\\nprint(xgb_grid.best_params_)\""
      ]
     },
     "execution_count": 42,
     "metadata": {},
     "output_type": "execute_result"
    }
   ],
   "source": [
    "from sklearn.model_selection import GridSearchCV\n",
    "from xgboost.sklearn import XGBRegressor\n",
    "'''\n",
    "# Various hyper-parameters to tune\n",
    "xgb1 = XGBRegressor()\n",
    "parameters = {'learning_rate': [0.1,0.03, 0.05, 0.07], #so called `eta` value, # [default=0.3] Analogous to learning rate in GBM\n",
    "              'min_child_weight': [1,3,5], #[default=1] Defines the minimum sum of weights of all observations required in a child.\n",
    "              'max_depth': [4, 6, 8], #[default=6] The maximum depth of a tree,\n",
    "              'gamma':[0,0.1,0.001,0.2], #Gamma specifies the minimum loss reduction required to make a split.\n",
    "              'subsample': [0.7,1,1.5], #Denotes the fraction of observations to be randomly samples for each tree.\n",
    "              'colsample_bytree': [0.7,1,1.5], #Denotes the fraction of columns to be randomly samples for each tree.\n",
    "              'objective':['reg:linear'], #This defines the loss function to be minimized.\n",
    "\n",
    "              'n_estimators': [100,300,500]}\n",
    "\n",
    "xgb_grid = GridSearchCV(xgb1,\n",
    "                        parameters,\n",
    "                        cv = 2,\n",
    "                        n_jobs = -1,\n",
    "                        verbose=True)\n",
    "\n",
    "xgb_grid.fit(X_train, y_train)\n",
    "\n",
    "print(xgb_grid.best_score_) # 0.9397345161940295\n",
    "print(xgb_grid.best_params_)'''"
   ]
  },
  {
   "cell_type": "code",
   "execution_count": 43,
   "metadata": {
    "cellView": "both",
    "colab": {
     "base_uri": "https://localhost:8080/",
     "height": 34
    },
    "colab_type": "code",
    "executionInfo": {
     "elapsed": 48340,
     "status": "ok",
     "timestamp": 1593078534797,
     "user": {
      "displayName": "indian ai production",
      "photoUrl": "",
      "userId": "05336710603640792650"
     },
     "user_tz": -330
    },
    "id": "yJkArgKqj4y_",
    "outputId": "4b9703ff-3f4a-40b0-ccfa-50b3fb7da614"
   },
   "outputs": [
    {
     "data": {
      "text/plain": [
       "'xgb_tune = xgb_grid.estimator\\n\\nxgb_tune.fit(X_train,y_train) # 0.9117591385438816\\nxgb_tune.score(X_test,y_test)'"
      ]
     },
     "execution_count": 43,
     "metadata": {},
     "output_type": "execute_result"
    }
   ],
   "source": [
    "'''xgb_tune = xgb_grid.estimator\n",
    "\n",
    "xgb_tune.fit(X_train,y_train) # 0.9117591385438816\n",
    "xgb_tune.score(X_test,y_test)'''"
   ]
  },
  {
   "cell_type": "code",
   "execution_count": 44,
   "metadata": {
    "colab": {
     "base_uri": "https://localhost:8080/",
     "height": 34
    },
    "colab_type": "code",
    "executionInfo": {
     "elapsed": 48310,
     "status": "ok",
     "timestamp": 1593078534798,
     "user": {
      "displayName": "indian ai production",
      "photoUrl": "",
      "userId": "05336710603640792650"
     },
     "user_tz": -330
    },
    "id": "wNCK-W4SkMAh",
    "outputId": "79075545-215e-4798-a599-df1487ed75ef"
   },
   "outputs": [
    {
     "data": {
      "text/plain": [
       "'cvs = cross_val_score(xgb_tune, X_train,y_train, cv = 10)\\ncvs, cvs.mean() #  0.9645582338461773)'"
      ]
     },
     "execution_count": 44,
     "metadata": {},
     "output_type": "execute_result"
    }
   ],
   "source": [
    "'''cvs = cross_val_score(xgb_tune, X_train,y_train, cv = 10)\n",
    "cvs, cvs.mean() #  0.9645582338461773)'''"
   ]
  },
  {
   "cell_type": "code",
   "execution_count": 45,
   "metadata": {
    "colab": {},
    "colab_type": "code",
    "executionInfo": {
     "elapsed": 48302,
     "status": "ok",
     "timestamp": 1593078534799,
     "user": {
      "displayName": "indian ai production",
      "photoUrl": "",
      "userId": "05336710603640792650"
     },
     "user_tz": -330
    },
    "id": "lyexCvMKs8gW"
   },
   "outputs": [],
   "source": [
    "#[i/10.0 for i in range(1,6)]"
   ]
  },
  {
   "cell_type": "code",
   "execution_count": 46,
   "metadata": {
    "colab": {},
    "colab_type": "code",
    "executionInfo": {
     "elapsed": 48297,
     "status": "ok",
     "timestamp": 1593078534801,
     "user": {
      "displayName": "indian ai production",
      "photoUrl": "",
      "userId": "05336710603640792650"
     },
     "user_tz": -330
    },
    "id": "PMn_MFhis9HR"
   },
   "outputs": [],
   "source": [
    "#xgb_grid.estimator\n"
   ]
  },
  {
   "cell_type": "code",
   "execution_count": 47,
   "metadata": {
    "colab": {
     "base_uri": "https://localhost:8080/",
     "height": 51
    },
    "colab_type": "code",
    "executionInfo": {
     "elapsed": 52687,
     "status": "ok",
     "timestamp": 1593078539232,
     "user": {
      "displayName": "indian ai production",
      "photoUrl": "",
      "userId": "05336710603640792650"
     },
     "user_tz": -330
    },
    "id": "fCtoITd4eaci",
    "outputId": "028938c4-ad99-4fbf-9e8c-5f8c10099d32"
   },
   "outputs": [
    {
     "name": "stderr",
     "output_type": "stream",
     "text": [
      "C:\\Users\\Lenovo\\anaconda3\\Lib\\site-packages\\xgboost\\core.py:160: UserWarning: [21:14:43] WARNING: C:\\buildkite-agent\\builds\\buildkite-windows-cpu-autoscaling-group-i-0b3782d1791676daf-1\\xgboost\\xgboost-ci-windows\\src\\objective\\regression_obj.cu:209: reg:linear is now deprecated in favor of reg:squarederror.\n",
      "  warnings.warn(smsg, UserWarning)\n"
     ]
    },
    {
     "data": {
      "text/plain": [
       "0.8644633914228479"
      ]
     },
     "execution_count": 47,
     "metadata": {},
     "output_type": "execute_result"
    }
   ],
   "source": [
    "missing_value = -999\n",
    "xgb_tune2 =  XGBRegressor(base_score=0.5, booster='gbtree', colsample_bylevel=1,\n",
    "             colsample_bynode=0.6, colsample_bytree=1, gamma=0,\n",
    "             importance_type='gain', learning_rate=0.25, max_delta_step=0,\n",
    "             max_depth=4, min_child_weight=1, missing=missing_value, n_estimators=400,\n",
    "             n_jobs=1, nthread=None, objective='reg:linear', random_state=0,\n",
    "             reg_alpha=0, reg_lambda=1, scale_pos_weight=1, seed=None,\n",
    "             silent=None, subsample=1, verbosity=1)\n",
    "xgb_tune2.fit(X_train,y_train) # 0.9412851220926807\n",
    "xgb_tune2.score(X_test,y_test)"
   ]
  },
  {
   "cell_type": "code",
   "execution_count": 48,
   "metadata": {
    "colab": {
     "base_uri": "https://localhost:8080/",
     "height": 51
    },
    "colab_type": "code",
    "executionInfo": {
     "elapsed": 54241,
     "status": "ok",
     "timestamp": 1593078540827,
     "user": {
      "displayName": "indian ai production",
      "photoUrl": "",
      "userId": "05336710603640792650"
     },
     "user_tz": -330
    },
    "id": "66kzeVolaEUk",
    "outputId": "74761529-0e24-494c-92f7-47dce447e5a7"
   },
   "outputs": [
    {
     "name": "stderr",
     "output_type": "stream",
     "text": [
      "C:\\Users\\Lenovo\\anaconda3\\Lib\\site-packages\\xgboost\\core.py:160: UserWarning: [21:14:45] WARNING: C:\\buildkite-agent\\builds\\buildkite-windows-cpu-autoscaling-group-i-0b3782d1791676daf-1\\xgboost\\xgboost-ci-windows\\src\\objective\\regression_obj.cu:209: reg:linear is now deprecated in favor of reg:squarederror.\n",
      "  warnings.warn(smsg, UserWarning)\n"
     ]
    },
    {
     "data": {
      "text/plain": [
       "0.8289115318375981"
      ]
     },
     "execution_count": 48,
     "metadata": {},
     "output_type": "execute_result"
    }
   ],
   "source": [
    "'''parameters = {'learning_rate': [0.1,0.03, 0.05, 0.07], #so called `eta` value, # [default=0.3] Analogous to learning rate in GBM\n",
    "              'min_child_weight': [1,3,5], #[default=1] Defines the minimum sum of weights of all observations required in a child.\n",
    "              'max_depth': [4, 6, 8], #[default=6] The maximum depth of a tree,\n",
    "              'gamma':[0,0.1,0.001,0.2], #Gamma specifies the minimum loss reduction required to make a split.\n",
    "              'subsample': [0.7,1,1.5], #Denotes the fraction of observations to be randomly samples for each tree.\n",
    "              'colsample_bytree': [0.7,1,1.5], #Denotes the fraction of columns to be randomly samples for each tree.\n",
    "              'objective':['reg:linear'], #This defines the loss function to be minimized.\n",
    "              'n_estimators': [100,300,500]}'''\n",
    "\n",
    "xgb_tune2 =  XGBRegressor(base_score=0.5, booster='gbtree', colsample_bylevel=1,\n",
    "             colsample_bynode=0.9, colsample_bytree=1, gamma=0,\n",
    "             importance_type='gain', learning_rate=0.05, max_delta_step=0,\n",
    "             max_depth=4, min_child_weight=5, missing=missing_value, n_estimators=100,\n",
    "             n_jobs=1, nthread=None, objective='reg:linear', random_state=0,\n",
    "             reg_alpha=0, reg_lambda=1, scale_pos_weight=1, seed=None,\n",
    "             silent=None, subsample=1, verbosity=1)\n",
    "xgb_tune2.fit(X_train,y_train) # 0.9412851220926807\n",
    "xgb_tune2.score(X_test,y_test)"
   ]
  },
  {
   "cell_type": "code",
   "execution_count": 51,
   "metadata": {
    "colab": {
     "base_uri": "https://localhost:8080/",
     "height": 136
    },
    "colab_type": "code",
    "executionInfo": {
     "elapsed": 60233,
     "status": "ok",
     "timestamp": 1593078546856,
     "user": {
      "displayName": "indian ai production",
      "photoUrl": "",
      "userId": "05336710603640792650"
     },
     "user_tz": -330
    },
    "id": "6FU4x7iBfMPH",
    "outputId": "abfeda40-a5f1-4e5c-d5c5-21e701fcdfcd"
   },
   "outputs": [
    {
     "name": "stderr",
     "output_type": "stream",
     "text": [
      "C:\\Users\\Lenovo\\anaconda3\\Lib\\site-packages\\xgboost\\core.py:160: UserWarning: [21:17:32] WARNING: C:\\buildkite-agent\\builds\\buildkite-windows-cpu-autoscaling-group-i-0b3782d1791676daf-1\\xgboost\\xgboost-ci-windows\\src\\objective\\regression_obj.cu:209: reg:linear is now deprecated in favor of reg:squarederror.\n",
      "  warnings.warn(smsg, UserWarning)\n",
      "C:\\Users\\Lenovo\\anaconda3\\Lib\\site-packages\\xgboost\\core.py:160: UserWarning: [21:17:33] WARNING: C:\\buildkite-agent\\builds\\buildkite-windows-cpu-autoscaling-group-i-0b3782d1791676daf-1\\xgboost\\xgboost-ci-windows\\src\\objective\\regression_obj.cu:209: reg:linear is now deprecated in favor of reg:squarederror.\n",
      "  warnings.warn(smsg, UserWarning)\n",
      "C:\\Users\\Lenovo\\anaconda3\\Lib\\site-packages\\xgboost\\core.py:160: UserWarning: [21:17:33] WARNING: C:\\buildkite-agent\\builds\\buildkite-windows-cpu-autoscaling-group-i-0b3782d1791676daf-1\\xgboost\\xgboost-ci-windows\\src\\objective\\regression_obj.cu:209: reg:linear is now deprecated in favor of reg:squarederror.\n",
      "  warnings.warn(smsg, UserWarning)\n",
      "C:\\Users\\Lenovo\\anaconda3\\Lib\\site-packages\\xgboost\\core.py:160: UserWarning: [21:17:34] WARNING: C:\\buildkite-agent\\builds\\buildkite-windows-cpu-autoscaling-group-i-0b3782d1791676daf-1\\xgboost\\xgboost-ci-windows\\src\\objective\\regression_obj.cu:209: reg:linear is now deprecated in favor of reg:squarederror.\n",
      "  warnings.warn(smsg, UserWarning)\n",
      "C:\\Users\\Lenovo\\anaconda3\\Lib\\site-packages\\xgboost\\core.py:160: UserWarning: [21:17:34] WARNING: C:\\buildkite-agent\\builds\\buildkite-windows-cpu-autoscaling-group-i-0b3782d1791676daf-1\\xgboost\\xgboost-ci-windows\\src\\objective\\regression_obj.cu:209: reg:linear is now deprecated in favor of reg:squarederror.\n",
      "  warnings.warn(smsg, UserWarning)\n"
     ]
    },
    {
     "data": {
      "text/plain": [
       "(array([0.9852852 , 0.97405125, 0.9836937 , 0.92122958, 0.91083   ]),\n",
       " 0.9550179475756362)"
      ]
     },
     "execution_count": 51,
     "metadata": {},
     "output_type": "execute_result"
    }
   ],
   "source": [
    "cvs = cross_val_score(xgb_tune2, X_train,y_train, cv = 5)\n",
    "cvs, cvs.mean() #  0.9706000326331659'''"
   ]
  },
  {
   "cell_type": "code",
   "execution_count": 52,
   "metadata": {
    "colab": {
     "base_uri": "https://localhost:8080/",
     "height": 34
    },
    "colab_type": "code",
    "executionInfo": {
     "elapsed": 60205,
     "status": "ok",
     "timestamp": 1593078546859,
     "user": {
      "displayName": "indian ai production",
      "photoUrl": "",
      "userId": "05336710603640792650"
     },
     "user_tz": -330
    },
    "id": "WhZks478fQvN",
    "outputId": "4b99e2ff-93ac-4575-8505-aa8f07669e01"
   },
   "outputs": [
    {
     "data": {
      "text/plain": [
       "58.6316450178789"
      ]
     },
     "execution_count": 52,
     "metadata": {},
     "output_type": "execute_result"
    }
   ],
   "source": [
    "np.sqrt(mean_squared_error(y_test, xgb_tune2.predict(X_test)))"
   ]
  },
  {
   "cell_type": "code",
   "execution_count": null,
   "metadata": {
    "colab": {},
    "colab_type": "code",
    "executionInfo": {
     "elapsed": 60198,
     "status": "ok",
     "timestamp": 1593078546861,
     "user": {
      "displayName": "indian ai production",
      "photoUrl": "",
      "userId": "05336710603640792650"
     },
     "user_tz": -330
    },
    "id": "BvXZVKM4j5q_"
   },
   "outputs": [],
   "source": []
  },
  {
   "cell_type": "markdown",
   "metadata": {
    "colab_type": "text",
    "id": "HMfJzdNkimif"
   },
   "source": [
    "## Test Model"
   ]
  },
  {
   "cell_type": "code",
   "execution_count": 53,
   "metadata": {
    "colab": {
     "base_uri": "https://localhost:8080/",
     "height": 1000
    },
    "colab_type": "code",
    "executionInfo": {
     "elapsed": 60169,
     "status": "ok",
     "timestamp": 1593078546862,
     "user": {
      "displayName": "indian ai production",
      "photoUrl": "",
      "userId": "05336710603640792650"
     },
     "user_tz": -330
    },
    "id": "ppJWFinaiovG",
    "outputId": "fbb3d745-36c2-4ab9-d10a-d0dd3e0daf7a"
   },
   "outputs": [
    {
     "data": {
      "text/plain": [
       "['bath',\n",
       " 'balcony',\n",
       " 'total_sqft_int',\n",
       " 'bhk',\n",
       " 'price_per_sqft',\n",
       " 'area_typeSuper built-up  Area',\n",
       " 'area_typeBuilt-up  Area',\n",
       " 'area_typePlot  Area',\n",
       " 'availability_Ready To Move',\n",
       " 'location_Whitefield',\n",
       " 'location_Sarjapur  Road',\n",
       " 'location_Electronic City',\n",
       " 'location_Marathahalli',\n",
       " 'location_Raja Rajeshwari Nagar',\n",
       " 'location_Haralur Road',\n",
       " 'location_Hennur Road',\n",
       " 'location_Bannerghatta Road',\n",
       " 'location_Uttarahalli',\n",
       " 'location_Thanisandra',\n",
       " 'location_Electronic City Phase II',\n",
       " 'location_Hebbal',\n",
       " 'location_Yelahanka',\n",
       " 'location_7th Phase JP Nagar',\n",
       " 'location_Kanakpura Road',\n",
       " 'location_KR Puram',\n",
       " 'location_Sarjapur',\n",
       " 'location_Rajaji Nagar',\n",
       " 'location_Bellandur',\n",
       " 'location_Kasavanhalli',\n",
       " 'location_Begur Road',\n",
       " 'location_Banashankari',\n",
       " 'location_Kothanur',\n",
       " 'location_Hormavu',\n",
       " 'location_Harlur',\n",
       " 'location_Akshaya Nagar',\n",
       " 'location_Electronics City Phase 1',\n",
       " 'location_Jakkur',\n",
       " 'location_Varthur',\n",
       " 'location_HSR Layout',\n",
       " 'location_Hennur',\n",
       " 'location_Ramamurthy Nagar',\n",
       " 'location_Chandapura',\n",
       " 'location_Koramangala',\n",
       " 'location_Kaggadasapura',\n",
       " 'location_Kundalahalli',\n",
       " 'location_Ramagondanahalli',\n",
       " 'location_Budigere',\n",
       " 'location_Hulimavu',\n",
       " 'location_Hoodi',\n",
       " 'location_Malleshwaram',\n",
       " 'location_Hegde Nagar',\n",
       " 'location_Yeshwanthpur',\n",
       " 'location_Gottigere',\n",
       " 'location_8th Phase JP Nagar',\n",
       " 'location_JP Nagar',\n",
       " 'location_Channasandra',\n",
       " 'location_Bisuvanahalli',\n",
       " 'location_Vittasandra',\n",
       " 'location_Indira Nagar',\n",
       " 'location_Old Airport Road',\n",
       " 'location_Sahakara Nagar',\n",
       " 'location_Brookefield',\n",
       " 'location_Kengeri',\n",
       " 'location_Hosa Road',\n",
       " 'location_Vijayanagar',\n",
       " 'location_Balagere',\n",
       " 'location_Green Glen Layout',\n",
       " 'location_Bommasandra',\n",
       " 'location_Rachenahalli',\n",
       " 'location_Panathur',\n",
       " 'location_Old Madras Road',\n",
       " 'location_Kudlu Gate',\n",
       " 'location_Mysore Road',\n",
       " 'location_Thigalarapalya',\n",
       " 'location_Talaghattapura',\n",
       " 'location_Kadugodi',\n",
       " 'location_Ambedkar Nagar',\n",
       " 'location_Jigani',\n",
       " 'location_Yelahanka New Town',\n",
       " 'location_Frazer Town',\n",
       " 'location_Kanakapura',\n",
       " 'location_Attibele',\n",
       " 'location_Dodda Nekkundi',\n",
       " 'location_Devanahalli',\n",
       " 'location_Lakshminarayana Pura',\n",
       " 'location_Nagarbhavi',\n",
       " 'location_5th Phase JP Nagar',\n",
       " 'location_TC Palaya',\n",
       " 'location_Ananth Nagar',\n",
       " 'location_Anekal',\n",
       " 'location_Kudlu',\n",
       " 'location_CV Raman Nagar',\n",
       " 'location_Jalahalli',\n",
       " 'location_Kengeri Satellite Town',\n",
       " 'location_Doddathoguru',\n",
       " 'location_Bhoganhalli',\n",
       " 'location_Subramanyapura',\n",
       " 'location_Kalena Agrahara',\n",
       " 'location_Horamavu Agara',\n",
       " 'location_Vidyaranyapura',\n",
       " 'location_Hosur Road',\n",
       " 'location_Hebbal Kempapura',\n",
       " 'location_BTM 2nd Stage',\n",
       " 'location_Domlur',\n",
       " 'location_Horamavu Banaswadi',\n",
       " 'location_Tumkur Road',\n",
       " 'location_Mahadevpura']"
      ]
     },
     "execution_count": 53,
     "metadata": {},
     "output_type": "execute_result"
    }
   ],
   "source": [
    "list(X.columns)"
   ]
  },
  {
   "cell_type": "code",
   "execution_count": 54,
   "metadata": {
    "colab": {},
    "colab_type": "code",
    "executionInfo": {
     "elapsed": 60159,
     "status": "ok",
     "timestamp": 1593078546863,
     "user": {
      "displayName": "indian ai production",
      "photoUrl": "",
      "userId": "05336710603640792650"
     },
     "user_tz": -330
    },
    "id": "udzrDV2fisfs"
   },
   "outputs": [],
   "source": [
    "# it help to get predicted value of hosue  by providing features value \n",
    "def predict_house_price(model,bath,balcony,total_sqft_int,bhk,price_per_sqft,area_type,availability,location):\n",
    "\n",
    "  x =np.zeros(len(X.columns)) # create zero numpy array, len = 107 as input value for model\n",
    "\n",
    "  # adding feature's value accorind to their column index\n",
    "  x[0]=bath\n",
    "  x[1]=balcony\n",
    "  x[2]=total_sqft_int\n",
    "  x[3]=bhk\n",
    "  x[4]=price_per_sqft\n",
    "\n",
    "  if \"availability\"==\"Ready To Move\":\n",
    "    x[8]=1\n",
    "\n",
    "  if 'area_type'+area_type in X.columns:\n",
    "    area_type_index = np.where(X.columns==\"area_type\"+area_type)[0][0]\n",
    "    x[area_type_index] =1\n",
    "\n",
    "    #print(area_type_index)\n",
    "\n",
    "  if 'location_'+location in X.columns:\n",
    "    loc_index = np.where(X.columns==\"location_\"+location)[0][0]\n",
    "    x[loc_index] =1\n",
    "\n",
    "    #print(loc_index)\n",
    "\n",
    "  #print(x)\n",
    "\n",
    "  # feature scaling\n",
    "  x = sc.transform([x])[0] # give 2d np array for feature scaling and get 1d scaled np array\n",
    "  #print(x)\n",
    "\n",
    "  return model.predict([x])[0] # return the predicted value by train XGBoost model"
   ]
  },
  {
   "cell_type": "code",
   "execution_count": null,
   "metadata": {
    "colab": {
     "base_uri": "https://localhost:8080/",
     "height": 34
    },
    "colab_type": "code",
    "executionInfo": {
     "elapsed": 60119,
     "status": "ok",
     "timestamp": 1593078546864,
     "user": {
      "displayName": "indian ai production",
      "photoUrl": "",
      "userId": "05336710603640792650"
     },
     "user_tz": -330
    },
    "id": "cP2-LZ41GVd2",
    "outputId": "72f70f40-5466-4fe8-a27f-7d240df93a6f"
   },
   "outputs": [],
   "source": [
    "predict_house_price(model=xgb_tune2, bath=3,balcony=2,total_sqft_int=1672,bhk=3,price_per_sqft=8971.291866,area_type=\"Plot  Area\",availability=\"Ready To Move\",location=\"Devarabeesana Halli\")"
   ]
  },
  {
   "cell_type": "code",
   "execution_count": 55,
   "metadata": {
    "colab": {
     "base_uri": "https://localhost:8080/",
     "height": 34
    },
    "colab_type": "code",
    "executionInfo": {
     "elapsed": 60083,
     "status": "ok",
     "timestamp": 1593078546865,
     "user": {
      "displayName": "indian ai production",
      "photoUrl": "",
      "userId": "05336710603640792650"
     },
     "user_tz": -330
    },
    "id": "FT6oIIPlHRmx",
    "outputId": "17191715-4f18-44d5-82fe-4d26df101715"
   },
   "outputs": [
    {
     "name": "stderr",
     "output_type": "stream",
     "text": [
      "C:\\Users\\Lenovo\\anaconda3\\Lib\\site-packages\\sklearn\\base.py:464: UserWarning: X does not have valid feature names, but StandardScaler was fitted with feature names\n",
      "  warnings.warn(\n"
     ]
    },
    {
     "data": {
      "text/plain": [
       "146.5464"
      ]
     },
     "execution_count": 55,
     "metadata": {},
     "output_type": "execute_result"
    }
   ],
   "source": [
    "##test sample\n",
    "#area_type\tavailability\tlocation\tbath\tbalcony\tprice\ttotal_sqft_int\tbhk\tprice_per_sqft\n",
    "#2\tSuper built-up Area\tReady To Move\tDevarabeesana Halli\t3.0\t2.0\t150.0\t1750.0\t3\t8571.428571\n",
    "\n",
    "predict_house_price(model=xgb_tune2, bath=3,balcony=2,total_sqft_int=1750,bhk=3,price_per_sqft=8571.428571,area_type=\"Super built-up\",availability=\"Ready To Move\",location=\"Devarabeesana Halli\")"
   ]
  },
  {
   "cell_type": "code",
   "execution_count": 56,
   "metadata": {
    "colab": {
     "base_uri": "https://localhost:8080/",
     "height": 34
    },
    "colab_type": "code",
    "executionInfo": {
     "elapsed": 60050,
     "status": "ok",
     "timestamp": 1593078546866,
     "user": {
      "displayName": "indian ai production",
      "photoUrl": "",
      "userId": "05336710603640792650"
     },
     "user_tz": -330
    },
    "id": "TXG6GFOxGw6w",
    "outputId": "1920210b-706b-4f61-8597-1ac5712413f1"
   },
   "outputs": [
    {
     "name": "stderr",
     "output_type": "stream",
     "text": [
      "C:\\Users\\Lenovo\\anaconda3\\Lib\\site-packages\\sklearn\\base.py:464: UserWarning: X does not have valid feature names, but StandardScaler was fitted with feature names\n",
      "  warnings.warn(\n"
     ]
    },
    {
     "data": {
      "text/plain": [
       "146.5464"
      ]
     },
     "execution_count": 56,
     "metadata": {},
     "output_type": "execute_result"
    }
   ],
   "source": [
    "##test sample\n",
    "#area_type\tavailability\tlocation\tbath\tbalcony\tprice\ttotal_sqft_int\tbhk\tprice_per_sqft\n",
    "#1\tBuilt-up Area\tReady To Move\tDevarabeesana Halli\t3.0\t3.0\t149.0\t1750.0\t3\t8514.285714\n",
    "predict_house_price(model=xgb_tune2,bath=3,balcony=3,total_sqft_int=1750,bhk=3,price_per_sqft=8514.285714,area_type=\"Built-up Area\",availability=\"Ready To Move\",location=\"Devarabeesana Halli\")"
   ]
  },
  {
   "cell_type": "code",
   "execution_count": 58,
   "metadata": {
    "tags": []
   },
   "outputs": [
    {
     "data": {
      "image/png": "[encoded data removed]",
      "text/plain": [
       "<Figure size 1000x500 with 1 Axes>"
      ]
     },
     "metadata": {},
     "output_type": "display_data"
    },
    {
     "data": {
      "image/png": "[encoded data removed]",
      "text/plain": [
       "<Figure size 1000x500 with 1 Axes>"
      ]
     },
     "metadata": {},
     "output_type": "display_data"
    }
   ],
   "source": [
    "import pandas as pd\n",
    "import matplotlib.pyplot as plt\n",
    "import seaborn as sns\n",
    "\n",
    "# Create DataFrame\n",
    "data = [{'Model': 'Linear Regression', 'Score': lr_score, 'RMSE': lr_rmse},\n",
    "        {'Model': 'Lasso', 'Score': lr_lasso_score, 'RMSE': lr_lasso_rmse},\n",
    "        {'Model': 'Ridge', 'Score': lr_ridge_score, 'RMSE': lr_ridge_rmse},  # Include Ridge\n",
    "        {'Model': 'Support Vector Machine', 'Score': svr_score, 'RMSE': svr_rmse},\n",
    "        {'Model': 'Random Forest', 'Score': rfr_score, 'RMSE': rfr_rmse},\n",
    "        {'Model': 'XGBoost', 'Score': xgb_reg_score, 'RMSE': xgb_reg_rmse},\n",
    "        {'Model': 'Gradient Boosting', 'Score': gb_reg_score, 'RMSE': gb_reg_rmse}]\n",
    "\n",
    "df = pd.DataFrame(data)\n",
    "\n",
    "# Set up the matplotlib figure for Score\n",
    "plt.figure(figsize=(10, 5))\n",
    "sns.barplot(x='Model', y='Score', data=df, palette='Blues_d')\n",
    "plt.xlabel('Model')\n",
    "plt.ylabel('Score')\n",
    "plt.title('Model Performance Comparison (Score)')\n",
    "plt.xticks(rotation=45, ha='right')  # Rotate x-labels for better readability\n",
    "plt.tight_layout()\n",
    "plt.show()\n",
    "\n",
    "# Set up the matplotlib figure for RMSE\n",
    "plt.figure(figsize=(10, 5))\n",
    "sns.barplot(x='Model', y='RMSE', data=df, palette='Reds_d')\n",
    "plt.xlabel('Model')\n",
    "plt.ylabel('RMSE')\n",
    "plt.title('Model Performance Comparison (RMSE)')\n",
    "plt.xticks(rotation=45, ha='right')  # Rotate x-labels for better readability\n",
    "plt.tight_layout()\n",
    "plt.show()\n"
   ]
  }
 ],
 "metadata": {
  "colab": {
   "authorship_tag": "ABX9TyOIYud2QNDIWB2Xh7v9T1ww",
   "collapsed_sections": [
    "Oh43OeUnfZAq"
   ],
   "mount_file_id": "1IRlN0K3-yqqkzos3SUKgVyiHjJOBxQtG",
   "name": "Copy of ML2 Model-bangalore_house_price_prediction.ipynb",
   "provenance": []
  },
  "kernelspec": {
   "display_name": "Python 3 (ipykernel)",
   "language": "python",
   "name": "python3"
  },
  "language_info": {
   "codemirror_mode": {
    "name": "ipython",
    "version": 3
   },
   "file_extension": ".py",
   "mimetype": "text/x-python",
   "name": "python",
   "nbconvert_exporter": "python",
   "pygments_lexer": "ipython3",
   "version": "3.12.0"
  }
 },
 "nbformat": 4,
 "nbformat_minor": 4
}
